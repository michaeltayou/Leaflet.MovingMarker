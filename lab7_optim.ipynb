{
  "cells": [
    {
      "cell_type": "markdown",
      "metadata": {
        "id": "view-in-github",
        "colab_type": "text"
      },
      "source": [
        "<a href=\"https://colab.research.google.com/github/michaeltayou/Leaflet.MovingMarker/blob/master/lab7_optim.ipynb\" target=\"_parent\"><img src=\"https://colab.research.google.com/assets/colab-badge.svg\" alt=\"Open In Colab\"/></a>"
      ]
    },
    {
      "cell_type": "markdown",
      "metadata": {
        "tags": [],
        "id": "1sxfA1rzBwsK"
      },
      "source": [
        "# CSC-52081-EP Lab7: Optimization - CEM / ES\n",
        "\n",
        "<img src=\"https://raw.githubusercontent.com/jeremiedecock/polytechnique-csc-52081-ep-2025-students/refs/heads/main/assets/logo.jpg\" style=\"float: left; width: 15%\" />\n",
        "\n",
        "[CSC-52081-EP-2025](https://moodle.polytechnique.fr/course/view.php?id=19336) Lab session #7\n",
        "\n",
        "2019-2025 Jérémie Decock"
      ]
    },
    {
      "cell_type": "markdown",
      "metadata": {
        "id": "h6Lapa_lBwsL"
      },
      "source": [
        "[![Open in Google Colab](https://colab.research.google.com/assets/colab-badge.svg)](https://colab.research.google.com/github/jeremiedecock/polytechnique-csc-52081-ep-2025-students/blob/main/lab7_optim.ipynb)\n",
        "\n",
        "[![My Binder](https://mybinder.org/badge_logo.svg)](https://mybinder.org/v2/gh/jeremiedecock/polytechnique-csc-52081-ep-2025-students/main?filepath=lab7_optim.ipynb)\n",
        "\n",
        "[![NbViewer](https://raw.githubusercontent.com/jupyter/design/main/logos/Badges/nbviewer_badge.svg)](https://nbviewer.jupyter.org/github/jeremiedecock/polytechnique-csc-52081-ep-2025-students/blob/main/lab7_optim.ipynb)\n",
        "\n",
        "[![Local](https://img.shields.io/badge/Local-Save%20As...-blue)](https://github.com/jeremiedecock/polytechnique-csc-52081-ep-2025-students/raw/main/lab7_optim.ipynb)"
      ]
    },
    {
      "cell_type": "markdown",
      "metadata": {
        "id": "vwKHVQAcBwsL"
      },
      "source": [
        "## Introduction\n",
        "\n",
        "In the previous lab we studied a method that allowed us to apply reinforcement learning in continuous state spaces and/or continuous action spaces.\n",
        "We used REINFORCE, a *Policy gradient* method that directly optimize the parametric policy $\\pi_{\\theta}$.\n",
        "The parameter $\\theta$ was iteratively updated toward a local maximum of the total expected reward $J(\\theta)$ using a gradient ascent method:\n",
        "$$\\theta \\leftarrow \\theta + \\alpha \\nabla_{\\theta}J(\\theta)$$\n",
        "A convenient analytical formulation of $\\nabla_{\\theta}J(\\theta)$ was obtained thanks to the *Policy Gradient theorem*:\n",
        "\n",
        "$$\\nabla_\\theta J(\\theta) = \\nabla_\\theta V^{\\pi_\\theta}(s) = \\mathbb{E}_{\\pi_\\theta} \\left[\\nabla_\\theta \\log \\pi_\\theta (a|s) Q^{\\pi_\\theta}(s,a) \\right].$$\n",
        "However, gradient ascent methods may have a slow convergence and will only found a local optimum.\n",
        "Moreover, this approach requires an analytical formulation of $\\nabla_\\theta \\log \\pi_\\theta (s,a)$ which is not always known (when something else than a neural networks is used for the agent's policy).\n",
        "\n",
        "Direct Policy Search methods using gradient free optimization procedures like Evolution Strategies or Cross Entropy Method (CEM) are interesting alternatives to Policy Gradient algorithms.\n",
        "They can be successfully applied as long as the $\\pi_\\theta$ policy has no more than few hundreds of parameters.\n",
        "Moreover, these method can solve complex problems that cannot be modeled as Markov Decision Processes.\n",
        "\n",
        "As for previous Reinforcement Learning labs, we will use standard problems provided by Gymnasium suite.\n",
        "Especially, we will try to solve the LunarLander-v3 problem (https://gymnasium.farama.org/environments/box2d/lunar_lander/) which offers both continuous states and action spaces.\n",
        "\n",
        "As for previous labs, you can either:\n",
        "- open, edit and execute the notebook in *Google Colab* following this link: https://colab.research.google.com/github/jeremiedecock/polytechnique-csc-52081-ep-2025-students/blob/main/lab7_optim.ipynb ; this is the **recommended** choice as you have nothing to install on your computer\n",
        "- open, edit and execute the notebook in *MyBinder* (if for any reason the Google Colab solution doesn't work): https://mybinder.org/v2/gh/jeremiedecock/polytechnique-csc-52081-ep-2025-students/main?filepath=lab7_optim.ipynb\n",
        "- download, edit and execute the notebook on your computer if Python3 and JypyterLab are already installed: https://github.com/jeremiedecock/polytechnique-csc-52081-ep-2025-students/raw/main/lab7_optim.ipynb\n",
        "\n",
        "If you work with Google Colab or MyBinder, **remember to save or download your work regularly or you may lose it!**"
      ]
    },
    {
      "cell_type": "markdown",
      "metadata": {
        "id": "CIjsOu3GBwsM"
      },
      "source": [
        "## Lab Submission\n",
        "\n",
        "Please submit your completed notebook in [Moodle : \"Lab 7 - Submission\"](https://moodle.polytechnique.fr/course/section.php?id=66535).\n",
        "\n",
        "### Submission Guidelines\n",
        "\n",
        "1. **File Naming:** Rename your notebook as follows: **`firstname_lastname-07.ipynb`** where `firstname` and `lastname` match your email address. *Example: `jesse_read-07.ipynb`*\n",
        "2. **Clear Output Cells:** To reduce file size (**must be under 500 KB**), clear all output cells before submitting. This includes rendered images, videos, plots, and dataframes...\n",
        "   - **JupyterLab:**\n",
        "     - Click **\"Kernel\" → \"Restart Kernel and Clear Outputs of All Cells...\"**\n",
        "     - Then go to **\"File\" → \"Save Notebook As...\"**\n",
        "   - **Google Colab:**\n",
        "     - Click **\"Edit\" → \"Clear all outputs\"**\n",
        "     - Then go to **\"File\" → \"Download\" → \"Download.ipynb\"**\n",
        "   - **VSCode:**\n",
        "     - Click **\"Clear All Outputs\"**\n",
        "     - Then **save your file**\n",
        "3. **Upload Your File:** Only **`.ipynb`** files are accepted.\n",
        "\n",
        "**Note:** Bonus parts (if any) are optional, as their name suggests.\n"
      ]
    },
    {
      "cell_type": "markdown",
      "metadata": {
        "id": "QR5E88y4BwsN"
      },
      "source": [
        "## Setup the Python environment"
      ]
    },
    {
      "cell_type": "markdown",
      "metadata": {
        "id": "Y93opCSCBwsN"
      },
      "source": [
        "This notebook relies on several libraries including `cma`, `gymnasium[box2d,classic-control]` (v1.0.0), `ipywidgets`, `matplotlib`, `moviepy`, `numpy`, `pandas`, `pygame`, `seaborn`, and `tqdm`.\n",
        "A complete list of dependencies can be found in the following [requirements-lab7.txt](https://raw.githubusercontent.com/jeremiedecock/polytechnique-csc-52081-ep-2025-students/main/requirements-lab7.txt) file."
      ]
    },
    {
      "cell_type": "markdown",
      "metadata": {
        "id": "UF7P5-ZVBwsO"
      },
      "source": [
        "### If you use Google Colab\n",
        "\n",
        "If you use Google Colab, execute the next cell to install required libraries."
      ]
    },
    {
      "cell_type": "code",
      "execution_count": 1,
      "metadata": {
        "colab": {
          "base_uri": "https://localhost:8080/"
        },
        "id": "xt66Z85AmOI2",
        "outputId": "ddace4be-34f1-445d-f8c3-1866a9679acc"
      },
      "outputs": [
        {
          "output_type": "stream",
          "name": "stdout",
          "text": [
            "Reading package lists...\n",
            "Building dependency tree...\n",
            "Reading state information...\n",
            "The following additional packages will be installed:\n",
            "swig4.0\n",
            "Suggested packages:\n",
            "swig-doc swig-examples swig4.0-examples swig4.0-doc\n",
            "The following NEW packages will be installed:\n",
            "swig swig4.0\n",
            "0 upgraded, 2 newly installed, 0 to remove and 20 not upgraded.\n",
            "Need to get 1,116 kB of archives.\n",
            "After this operation, 5,542 kB of additional disk space will be used.\n",
            "Get:1 http://archive.ubuntu.com/ubuntu jammy/universe amd64 swig4.0 amd64 4.0.2-1ubuntu1 [1,110 kB]\n",
            "Get:2 http://archive.ubuntu.com/ubuntu jammy/universe amd64 swig all 4.0.2-1ubuntu1 [5,632 B]\n",
            "Fetched 1,116 kB in 0s (7,783 kB/s)\n",
            "Selecting previously unselected package swig4.0.\n",
            "(Reading database ... 124926 files and directories currently installed.)\n",
            "Preparing to unpack .../swig4.0_4.0.2-1ubuntu1_amd64.deb ...\n",
            "Unpacking swig4.0 (4.0.2-1ubuntu1) ...\n",
            "Selecting previously unselected package swig.\n",
            "Preparing to unpack .../swig_4.0.2-1ubuntu1_all.deb ...\n",
            "Unpacking swig (4.0.2-1ubuntu1) ...\n",
            "Setting up swig4.0 (4.0.2-1ubuntu1) ...\n",
            "Setting up swig (4.0.2-1ubuntu1) ...\n",
            "Processing triggers for man-db (2.10.2-1) ...\n",
            "Requirement already satisfied: gymnasium~=1.0.0 in /usr/local/lib/python3.11/dist-packages (from gymnasium[box2d,classic-control]~=1.0.0->-r https://raw.githubusercontent.com/jeremiedecock/polytechnique-csc-52081-ep-2025-students/main/requirements-lab7-google-colab.txt (line 25)) (1.0.0)\n",
            "Requirement already satisfied: moviepy>=1.0.0 in /usr/local/lib/python3.11/dist-packages (from -r https://raw.githubusercontent.com/jeremiedecock/polytechnique-csc-52081-ep-2025-students/main/requirements-lab7-google-colab.txt (line 26)) (1.0.3)\n",
            "Collecting cma (from -r https://raw.githubusercontent.com/jeremiedecock/polytechnique-csc-52081-ep-2025-students/main/requirements-lab7-google-colab.txt (line 31))\n",
            "Downloading cma-4.0.0-py3-none-any.whl.metadata (8.0 kB)\n",
            "Requirement already satisfied: numpy>=1.21.0 in /usr/local/lib/python3.11/dist-packages (from gymnasium~=1.0.0->gymnasium[box2d,classic-control]~=1.0.0->-r https://raw.githubusercontent.com/jeremiedecock/polytechnique-csc-52081-ep-2025-students/main/requirements-lab7-google-colab.txt (line 25)) (1.26.4)\n",
            "Requirement already satisfied: cloudpickle>=1.2.0 in /usr/local/lib/python3.11/dist-packages (from gymnasium~=1.0.0->gymnasium[box2d,classic-control]~=1.0.0->-r https://raw.githubusercontent.com/jeremiedecock/polytechnique-csc-52081-ep-2025-students/main/requirements-lab7-google-colab.txt (line 25)) (3.1.1)\n",
            "Requirement already satisfied: typing-extensions>=4.3.0 in /usr/local/lib/python3.11/dist-packages (from gymnasium~=1.0.0->gymnasium[box2d,classic-control]~=1.0.0->-r https://raw.githubusercontent.com/jeremiedecock/polytechnique-csc-52081-ep-2025-students/main/requirements-lab7-google-colab.txt (line 25)) (4.12.2)\n",
            "Requirement already satisfied: farama-notifications>=0.0.1 in /usr/local/lib/python3.11/dist-packages (from gymnasium~=1.0.0->gymnasium[box2d,classic-control]~=1.0.0->-r https://raw.githubusercontent.com/jeremiedecock/polytechnique-csc-52081-ep-2025-students/main/requirements-lab7-google-colab.txt (line 25)) (0.0.4)\n",
            "Requirement already satisfied: decorator<5.0,>=4.0.2 in /usr/local/lib/python3.11/dist-packages (from moviepy>=1.0.0->-r https://raw.githubusercontent.com/jeremiedecock/polytechnique-csc-52081-ep-2025-students/main/requirements-lab7-google-colab.txt (line 26)) (4.4.2)\n",
            "Requirement already satisfied: imageio<3.0,>=2.5 in /usr/local/lib/python3.11/dist-packages (from moviepy>=1.0.0->-r https://raw.githubusercontent.com/jeremiedecock/polytechnique-csc-52081-ep-2025-students/main/requirements-lab7-google-colab.txt (line 26)) (2.37.0)\n",
            "Requirement already satisfied: imageio_ffmpeg>=0.2.0 in /usr/local/lib/python3.11/dist-packages (from moviepy>=1.0.0->-r https://raw.githubusercontent.com/jeremiedecock/polytechnique-csc-52081-ep-2025-students/main/requirements-lab7-google-colab.txt (line 26)) (0.6.0)\n",
            "Requirement already satisfied: tqdm<5.0,>=4.11.2 in /usr/local/lib/python3.11/dist-packages (from moviepy>=1.0.0->-r https://raw.githubusercontent.com/jeremiedecock/polytechnique-csc-52081-ep-2025-students/main/requirements-lab7-google-colab.txt (line 26)) (4.67.1)\n",
            "Requirement already satisfied: requests<3.0,>=2.8.1 in /usr/local/lib/python3.11/dist-packages (from moviepy>=1.0.0->-r https://raw.githubusercontent.com/jeremiedecock/polytechnique-csc-52081-ep-2025-students/main/requirements-lab7-google-colab.txt (line 26)) (2.32.3)\n",
            "Requirement already satisfied: proglog<=1.0.0 in /usr/local/lib/python3.11/dist-packages (from moviepy>=1.0.0->-r https://raw.githubusercontent.com/jeremiedecock/polytechnique-csc-52081-ep-2025-students/main/requirements-lab7-google-colab.txt (line 26)) (0.1.10)\n",
            "Collecting box2d-py==2.3.5 (from gymnasium[box2d,classic-control]~=1.0.0->-r https://raw.githubusercontent.com/jeremiedecock/polytechnique-csc-52081-ep-2025-students/main/requirements-lab7-google-colab.txt (line 25))\n",
            "Downloading box2d-py-2.3.5.tar.gz (374 kB)\n",
            "━━━━━━━━━━━━━━━━━━━━━━━━━━━━━━━━━━━━━━━━ 374.4/374.4 kB 10.7 MB/s eta 0:00:00\n",
            "Preparing metadata (setup.py): started\n",
            "Preparing metadata (setup.py): finished with status 'done'\n",
            "Requirement already satisfied: pygame>=2.1.3 in /usr/local/lib/python3.11/dist-packages (from gymnasium[box2d,classic-control]~=1.0.0->-r https://raw.githubusercontent.com/jeremiedecock/polytechnique-csc-52081-ep-2025-students/main/requirements-lab7-google-colab.txt (line 25)) (2.6.1)\n",
            "Collecting swig==4.* (from gymnasium[box2d,classic-control]~=1.0.0->-r https://raw.githubusercontent.com/jeremiedecock/polytechnique-csc-52081-ep-2025-students/main/requirements-lab7-google-colab.txt (line 25))\n",
            "Downloading swig-4.3.0-py2.py3-none-manylinux_2_5_x86_64.manylinux1_x86_64.whl.metadata (3.5 kB)\n",
            "Requirement already satisfied: pillow>=8.3.2 in /usr/local/lib/python3.11/dist-packages (from imageio<3.0,>=2.5->moviepy>=1.0.0->-r https://raw.githubusercontent.com/jeremiedecock/polytechnique-csc-52081-ep-2025-students/main/requirements-lab7-google-colab.txt (line 26)) (11.1.0)\n",
            "Requirement already satisfied: charset-normalizer<4,>=2 in /usr/local/lib/python3.11/dist-packages (from requests<3.0,>=2.8.1->moviepy>=1.0.0->-r https://raw.githubusercontent.com/jeremiedecock/polytechnique-csc-52081-ep-2025-students/main/requirements-lab7-google-colab.txt (line 26)) (3.4.1)\n",
            "Requirement already satisfied: idna<4,>=2.5 in /usr/local/lib/python3.11/dist-packages (from requests<3.0,>=2.8.1->moviepy>=1.0.0->-r https://raw.githubusercontent.com/jeremiedecock/polytechnique-csc-52081-ep-2025-students/main/requirements-lab7-google-colab.txt (line 26)) (3.10)\n",
            "Requirement already satisfied: urllib3<3,>=1.21.1 in /usr/local/lib/python3.11/dist-packages (from requests<3.0,>=2.8.1->moviepy>=1.0.0->-r https://raw.githubusercontent.com/jeremiedecock/polytechnique-csc-52081-ep-2025-students/main/requirements-lab7-google-colab.txt (line 26)) (2.3.0)\n",
            "Requirement already satisfied: certifi>=2017.4.17 in /usr/local/lib/python3.11/dist-packages (from requests<3.0,>=2.8.1->moviepy>=1.0.0->-r https://raw.githubusercontent.com/jeremiedecock/polytechnique-csc-52081-ep-2025-students/main/requirements-lab7-google-colab.txt (line 26)) (2025.1.31)\n",
            "Downloading cma-4.0.0-py3-none-any.whl (283 kB)\n",
            "━━━━━━━━━━━━━━━━━━━━━━━━━━━━━━━━━━━━━━━━ 283.5/283.5 kB 20.7 MB/s eta 0:00:00\n",
            "Downloading swig-4.3.0-py2.py3-none-manylinux_2_5_x86_64.manylinux1_x86_64.whl (1.9 MB)\n",
            "━━━━━━━━━━━━━━━━━━━━━━━━━━━━━━━━━━━━━━━━ 1.9/1.9 MB 64.9 MB/s eta 0:00:00\n",
            "Building wheels for collected packages: box2d-py\n",
            "Building wheel for box2d-py (setup.py): started\n",
            "Building wheel for box2d-py (setup.py): finished with status 'done'\n",
            "Created wheel for box2d-py: filename=box2d_py-2.3.5-cp311-cp311-linux_x86_64.whl size=2351175 sha256=59cf4a1fd740c992c0f03fc87130ad51733ce8e7deda9e3bcd5a9ec0d9bd5be7\n",
            "Stored in directory: /root/.cache/pip/wheels/ab/f1/0c/d56f4a2bdd12bae0a0693ec33f2f0daadb5eb9753c78fa5308\n",
            "Successfully built box2d-py\n",
            "Installing collected packages: swig, box2d-py, cma\n",
            "Successfully installed box2d-py-2.3.5 cma-4.0.0 swig-4.3.0\n"
          ]
        }
      ],
      "source": [
        "import sys\n",
        "import subprocess\n",
        "\n",
        "\n",
        "def is_colab() -> bool:\n",
        "    return \"google.colab\" in sys.modules\n",
        "\n",
        "\n",
        "def run_subprocess_command(cmd: str) -> None:\n",
        "    # run the command\n",
        "    process = subprocess.Popen(cmd.split(), stdout=subprocess.PIPE)\n",
        "    # print the output\n",
        "    for line in process.stdout:\n",
        "        print(line.decode().strip())\n",
        "\n",
        "\n",
        "if is_colab():\n",
        "    run_subprocess_command(\"apt install swig\")\n",
        "    run_subprocess_command(\"pip install -r https://raw.githubusercontent.com/jeremiedecock/polytechnique-csc-52081-ep-2025-students/main/requirements-lab7-google-colab.txt\")"
      ]
    },
    {
      "cell_type": "markdown",
      "metadata": {
        "id": "emgKqMjEBwsP"
      },
      "source": [
        "### If you have downloaded the notebook on your computer and execute it in your own Python environment"
      ]
    },
    {
      "cell_type": "markdown",
      "metadata": {
        "jp-MarkdownHeadingCollapsed": true,
        "id": "AU0bfbc9BwsP"
      },
      "source": [
        "To set up the necessary dependencies, run the following commands to establish a [Python virtual environment (venv)](https://docs.python.org/3/library/venv.html) that includes all the essential libraries for this lab.\n",
        "\n",
        "#### On Posix systems (Linux, MacOSX, WSL, ...)\n",
        "\n",
        "```bash\n",
        "python3 -m venv env-lab7\n",
        "source env-lab7/bin/activate\n",
        "python3 -m pip install --upgrade pip\n",
        "python3 -m pip install -r https://raw.githubusercontent.com/jeremiedecock/polytechnique-csc-52081-ep-2025-students/main/requirements-lab7.txt\n",
        "```\n",
        "\n",
        "#### On Windows\n",
        "\n",
        "```bash\n",
        "python3 -m venv env-lab7\n",
        "env-lab7\\Scripts\\activate.bat\n",
        "python3 -m pip install --upgrade pip\n",
        "python3 -m pip install -r https://raw.githubusercontent.com/jeremiedecock/polytechnique-csc-52081-ep-2025-students/main/requirements-lab7.txt\n",
        "```"
      ]
    },
    {
      "cell_type": "markdown",
      "metadata": {
        "id": "WcaOhf7HBwsQ"
      },
      "source": [
        "### Run CSC-52081-EP notebooks locally in a dedicated Docker container\n",
        "\n",
        "If you are familiar with Docker, an image is available on Docker Hub for this lab:\n",
        "\n",
        "```bash\n",
        "docker run -it --rm --user root -p 8888:8888 -e NB_UID=$(id -u) -e NB_GID=$(id -g) -v \"${PWD}\":/home/jovyan/work jdhp/csc-52081-ep:latest\n",
        "```"
      ]
    },
    {
      "cell_type": "markdown",
      "metadata": {
        "id": "C3h-M0b1BwsQ"
      },
      "source": [
        "### Import required packages"
      ]
    },
    {
      "cell_type": "code",
      "execution_count": 2,
      "metadata": {
        "id": "aXln5vDwBwsQ"
      },
      "outputs": [],
      "source": [
        "import gymnasium as gym\n",
        "import math\n",
        "import numpy as np\n",
        "import pandas as pd\n",
        "from pathlib import Path\n",
        "import itertools\n",
        "import torch\n",
        "from typing import cast, List, Tuple, Deque, Optional, Callable"
      ]
    },
    {
      "cell_type": "code",
      "execution_count": 3,
      "metadata": {
        "id": "Hy0TkQDtBwsR"
      },
      "outputs": [],
      "source": [
        "%matplotlib inline\n",
        "\n",
        "import matplotlib.pyplot as plt\n",
        "\n",
        "import seaborn as sns\n",
        "from tqdm.notebook import tqdm"
      ]
    },
    {
      "cell_type": "code",
      "execution_count": 4,
      "metadata": {
        "id": "dRMK3dyXBwsR"
      },
      "outputs": [],
      "source": [
        "from IPython.display import Video\n",
        "from ipywidgets import interact"
      ]
    },
    {
      "cell_type": "code",
      "execution_count": 5,
      "metadata": {
        "id": "iawBvlblBwsR"
      },
      "outputs": [],
      "source": [
        "import warnings\n",
        "\n",
        "warnings.filterwarnings(\"ignore\", category=UserWarning)"
      ]
    },
    {
      "cell_type": "code",
      "execution_count": 6,
      "metadata": {
        "id": "DXHzwDXwBwsR"
      },
      "outputs": [],
      "source": [
        "sns.set_context(\"talk\")"
      ]
    },
    {
      "cell_type": "code",
      "execution_count": 7,
      "metadata": {
        "id": "ERilNF1RBwsR"
      },
      "outputs": [],
      "source": [
        "FIGS_DIR = Path(\"figs/\") / \"lab7\"       # Where to save figures (.gif or .mp4 files)\n",
        "PLOTS_DIR = Path(\"figs/\") / \"lab7\"      # Where to save plots (.png or .svg files)\n",
        "MODELS_DIR = Path(\"models/\") / \"lab7\"   # Where to save models (.pth files)"
      ]
    },
    {
      "cell_type": "code",
      "execution_count": 8,
      "metadata": {
        "id": "luCMdURlBwsR"
      },
      "outputs": [],
      "source": [
        "if not FIGS_DIR.exists():\n",
        "    FIGS_DIR.mkdir(parents=True)\n",
        "if not PLOTS_DIR.exists():\n",
        "    PLOTS_DIR.mkdir(parents=True)\n",
        "if not MODELS_DIR.exists():\n",
        "    MODELS_DIR.mkdir(parents=True)"
      ]
    },
    {
      "cell_type": "markdown",
      "metadata": {
        "lines_to_next_cell": 2,
        "id": "EY5rLsQDBwsS"
      },
      "source": [
        "## Define the video selector widget"
      ]
    },
    {
      "cell_type": "markdown",
      "metadata": {
        "lines_to_next_cell": 2,
        "id": "0NQikssQBwsS"
      },
      "source": [
        "The `video_selector` function, defined in the next cell, will be used in exercises 2, 3, 4 and 5 to display different episodes of the trained agent."
      ]
    },
    {
      "cell_type": "code",
      "execution_count": 9,
      "metadata": {
        "id": "bmfm3nBOBwsS"
      },
      "outputs": [],
      "source": [
        "def video_selector(file_path: List[Path]) -> Video:\n",
        "    return Video(file_path, embed=True, html_attributes=\"controls autoplay loop\")"
      ]
    },
    {
      "cell_type": "markdown",
      "metadata": {
        "id": "_OzVH_PNBwsS"
      },
      "source": [
        "## PyTorch Refresher and Cheat Sheet\n",
        "\n",
        "In this lab, we will be implementing our deep reinforcement learning algorithms using PyTorch.\n",
        "If you need a refresher, you might find this [PyTorch Cheat Sheet](https://pytorch.org/tutorials/beginner/ptcheat.html) helpful. It provides a quick reference for many of the most commonly used PyTorch functions and concepts, and can be a valuable resource as you work through this lab.\n",
        "\n",
        "You can also refer to the [official documentation](https://pytorch.org/docs/stable/index.html)."
      ]
    },
    {
      "cell_type": "markdown",
      "metadata": {
        "id": "HUwSid8IBwsS"
      },
      "source": [
        "## PyTorch setup"
      ]
    },
    {
      "cell_type": "markdown",
      "metadata": {
        "id": "8Y0eQ_QPBwsS"
      },
      "source": [
        "GPUs are useless for this lab. The following cell ask PyTorch to work on CPU."
      ]
    },
    {
      "cell_type": "code",
      "execution_count": 10,
      "metadata": {
        "id": "CJn8bGI2BwsS"
      },
      "outputs": [],
      "source": [
        "device = \"cpu\""
      ]
    },
    {
      "cell_type": "markdown",
      "metadata": {
        "id": "Ql2teYU-BwsS"
      },
      "source": [
        "## Exercise 1: Implement CEM and test it on the CartPole environment"
      ]
    },
    {
      "cell_type": "markdown",
      "metadata": {
        "id": "koWI1-dtBwsT"
      },
      "source": [
        "Before solving the Lunar Lander environment, we will practice on the (simpler) CartPole environment."
      ]
    },
    {
      "cell_type": "markdown",
      "metadata": {
        "id": "yg3ySxh2BwsT"
      },
      "source": [
        "**Reminder**: a description of the CartPole environment is available at https://gymnasium.farama.org/environments/classic_control/cart_pole/. This environment offers a continuous state space and discrete action space."
      ]
    },
    {
      "cell_type": "markdown",
      "metadata": {
        "id": "lszzIEH1BwsT"
      },
      "source": [
        "### Implement the policy to optimize"
      ]
    },
    {
      "cell_type": "markdown",
      "metadata": {
        "lines_to_next_cell": 2,
        "id": "Jm7GcBkzBwsT"
      },
      "source": [
        "An implementation of the CartPole policy is given in the following cell."
      ]
    },
    {
      "cell_type": "code",
      "execution_count": 11,
      "metadata": {
        "id": "_5aNexh7BwsT"
      },
      "outputs": [],
      "source": [
        "def sigmoid(x: np.ndarray) -> np.ndarray:\n",
        "    \"\"\"\n",
        "    Compute the sigmoid function for the input array.\n",
        "\n",
        "    Parameters\n",
        "    ----------\n",
        "    x : np.ndarray\n",
        "        The input array for which to compute the sigmoid function.\n",
        "\n",
        "    Returns\n",
        "    -------\n",
        "    np.ndarray\n",
        "        The output array with the sigmoid function applied element-wise.\n",
        "    \"\"\"\n",
        "    return 1.0 / (1.0 + np.exp(-x))\n",
        "\n",
        "\n",
        "# Logistic Regression ############################################\n",
        "\n",
        "\n",
        "class LogisticRegression:\n",
        "    \"\"\"\n",
        "    Logistic Regression model for binary classification.\n",
        "\n",
        "    Parameters\n",
        "    ----------\n",
        "    observations_size : int\n",
        "        The size of the observation space.\n",
        "\n",
        "    Attributes\n",
        "    ----------\n",
        "    observation_size : int\n",
        "        The size of the observation space.\n",
        "    params : np.ndarray\n",
        "        The parameters of the logistic regression model.\n",
        "    \"\"\"\n",
        "\n",
        "    def __init__(self, observations_size: int):\n",
        "        \"\"\"\n",
        "        Initialize the LogisticRegression model with random parameters.\n",
        "\n",
        "        Parameters\n",
        "        ----------\n",
        "        observations_size : int\n",
        "            The size of the observation space.\n",
        "        \"\"\"\n",
        "        self.observation_size = observations_size\n",
        "        self.params = np.random.rand(observations_size)\n",
        "\n",
        "    def __call__(self, observation: np.ndarray) -> int:\n",
        "        \"\"\"\n",
        "        Predict the class label for a given observation.\n",
        "\n",
        "        Parameters\n",
        "        ----------\n",
        "        observation : np.ndarray\n",
        "            The input observation.\n",
        "\n",
        "        Returns\n",
        "        -------\n",
        "        int\n",
        "            The predicted class label (0 or 1).\n",
        "        \"\"\"\n",
        "        prob_push_right = sigmoid(np.dot(observation, np.transpose(self.params)))\n",
        "        return 1 if np.random.rand() < prob_push_right else 0\n",
        "\n",
        "    def get_params(self) -> np.ndarray:\n",
        "        \"\"\"\n",
        "        Get the parameters of the logistic regression model.\n",
        "\n",
        "        Returns\n",
        "        -------\n",
        "        np.ndarray\n",
        "            The parameters of the logistic regression model.\n",
        "        \"\"\"\n",
        "        return self.params.copy()\n",
        "\n",
        "    def set_params(self, params: np.ndarray) -> None:\n",
        "        \"\"\"\n",
        "        Set the parameters of the logistic regression model.\n",
        "\n",
        "        Parameters\n",
        "        ----------\n",
        "        params : np.ndarray\n",
        "            The parameters of the logistic regression model.\n",
        "        \"\"\"\n",
        "        self.params = params.copy()"
      ]
    },
    {
      "cell_type": "markdown",
      "metadata": {
        "id": "s2q42clCBwsT"
      },
      "source": [
        "### Test the untrained agent"
      ]
    },
    {
      "cell_type": "code",
      "execution_count": 12,
      "metadata": {
        "id": "N71NC0SzBwsU"
      },
      "outputs": [],
      "source": [
        "def test_agent(\n",
        "    env: gym.Env, policy: torch.nn.Module, num_episode: int = 1\n",
        ") -> List[float]:\n",
        "    \"\"\"\n",
        "    Test a naive agent in the given environment using the provided Q-network.\n",
        "\n",
        "    Parameters\n",
        "    ----------\n",
        "    env : gym.Env\n",
        "        The environment in which to test the agent.\n",
        "    policy : torch.nn.Module\n",
        "        The neural network to use for decision making.\n",
        "    num_episode : int, optional\n",
        "        The number of episodes to run, by default 1.\n",
        "\n",
        "    Returns\n",
        "    -------\n",
        "    List[float]\n",
        "        A list of rewards per episode.\n",
        "    \"\"\"\n",
        "    episode_reward_list = []\n",
        "\n",
        "    for episode_id in range(num_episode):\n",
        "        observation, info = env.reset()\n",
        "        done = False\n",
        "        episode_reward = 0.0\n",
        "\n",
        "        while not done:\n",
        "\n",
        "            # action = ... # TODO...\n",
        "            action = policy(observation)\n",
        "\n",
        "            next_observation, reward, terminated, truncated, info = env.step(action)\n",
        "            done = terminated or truncated\n",
        "\n",
        "            episode_reward += float(reward)\n",
        "\n",
        "            observation = next_observation\n",
        "\n",
        "        episode_reward_list.append(episode_reward)\n",
        "        print(f\"Episode reward: {episode_reward}\")\n",
        "\n",
        "    return episode_reward_list"
      ]
    },
    {
      "cell_type": "code",
      "execution_count": 13,
      "metadata": {
        "lines_to_next_cell": 2,
        "id": "1y-8TKIVBwsU",
        "outputId": "f3d1aa06-3617-44ad-a522-a2fac424e86c",
        "colab": {
          "base_uri": "https://localhost:8080/",
          "height": 558,
          "referenced_widgets": [
            "317e86cc2e07454296996bf0eb2eaf38",
            "4956d078ee6b4cf89cf55166648dd2ff",
            "cf7d8d2685c94344b04121233aebda6c",
            "c2925e3896614f678ed13725f9a4a954",
            "14450b8103d5429eba8cf52d618213ab",
            "ab97ca0b27984f4d9d98854006ee3891",
            "087a5800b91e4d048bce5123a1b975c8"
          ]
        }
      },
      "outputs": [
        {
          "output_type": "stream",
          "name": "stdout",
          "text": [
            "Episode reward: 9.0\n",
            "Episode reward: 22.0\n",
            "Episode reward: 20.0\n",
            "\n",
            "Select the episode to play here 👇\n",
            "\n"
          ]
        },
        {
          "output_type": "display_data",
          "data": {
            "text/plain": [
              "interactive(children=(Dropdown(description='file_path', options=(PosixPath('figs/lab7/lab7_ex1_untained-episod…"
            ],
            "application/vnd.jupyter.widget-view+json": {
              "version_major": 2,
              "version_minor": 0,
              "model_id": "317e86cc2e07454296996bf0eb2eaf38"
            }
          },
          "metadata": {}
        }
      ],
      "source": [
        "VIDEO_PREFIX_EX1_UNTRAINED = \"lab7_ex1_untained\"\n",
        "\n",
        "NUM_EPISODES = 3\n",
        "\n",
        "file_path_list = [\n",
        "    FIGS_DIR / f\"{VIDEO_PREFIX_EX1_UNTRAINED}-episode-{episode_index}.mp4\"\n",
        "    for episode_index in range(NUM_EPISODES)\n",
        "]\n",
        "\n",
        "for file_path in file_path_list:\n",
        "    file_path.unlink(missing_ok=True)\n",
        "\n",
        "env = gym.make(\"CartPole-v1\", render_mode=\"rgb_array\")\n",
        "env = gym.wrappers.RecordVideo(\n",
        "    env,\n",
        "    video_folder=str(FIGS_DIR),\n",
        "    name_prefix=VIDEO_PREFIX_EX1_UNTRAINED,\n",
        "    episode_trigger=lambda x: True,\n",
        ")\n",
        "env = gym.wrappers.RecordEpisodeStatistics(env, buffer_length=NUM_EPISODES)\n",
        "\n",
        "nn_policy = LogisticRegression(env.observation_space.shape[0])\n",
        "\n",
        "test_agent(env, nn_policy, num_episode=NUM_EPISODES)\n",
        "\n",
        "# print(f'Episode time taken: {env.time_queue}')\n",
        "# print(f'Episode total rewards: {env.return_queue}')\n",
        "# print(f'Episode lengths: {env.length_queue}')\n",
        "\n",
        "env.close()\n",
        "\n",
        "print(\"\\nSelect the episode to play here 👇\\n\")\n",
        "\n",
        "interact(video_selector, file_path=file_path_list);"
      ]
    },
    {
      "cell_type": "markdown",
      "metadata": {
        "id": "w76XgslsBwsU"
      },
      "source": [
        "### Implement the objective function"
      ]
    },
    {
      "cell_type": "markdown",
      "metadata": {
        "lines_to_next_cell": 2,
        "id": "KsoY_6QSBwsU"
      },
      "source": [
        "Optimization algorithms aim to find the minimum of a function. This function is called an \"objective function\".\n",
        "The cell below implements the framework for such a function.\n",
        "Note that in reinforcement learning, by convention the score is a reward to maximize whereas in mathematical optimization the score is a cost to minimize (most optimization libraries like PyCMA used in this lab impose this convention) ; the objective function will therefore return the opposite of the reward as the score of evaluated policies."
      ]
    },
    {
      "cell_type": "code",
      "execution_count": 20,
      "metadata": {
        "lines_to_next_cell": 2,
        "id": "4FyykoeoBwsV"
      },
      "outputs": [],
      "source": [
        "class ObjectiveFunction:\n",
        "    \"\"\"\n",
        "    Objective function for evaluating a policy in a given environment.\n",
        "\n",
        "    Parameters\n",
        "    ----------\n",
        "    env : gym.Env\n",
        "        The environment in which to evaluate the policy.\n",
        "    policy : torch.nn.Module\n",
        "        The policy to evaluate.\n",
        "    num_episodes : int, optional\n",
        "        The number of episodes to run for each evaluation, by default 1.\n",
        "    max_time_steps : float, optional\n",
        "        The maximum number of time steps per episode, by default float(\"inf\").\n",
        "    minimization_solver : bool, optional\n",
        "        Whether the solver is a minimization solver, by default True.\n",
        "\n",
        "    Attributes\n",
        "    ----------\n",
        "    env : gym.Env\n",
        "        The environment in which to evaluate the policy.\n",
        "    policy : torch.nn.Module\n",
        "        The policy to evaluate.\n",
        "    num_episodes : int\n",
        "        The number of episodes to run for each evaluation.\n",
        "    max_time_steps : float\n",
        "        The maximum number of time steps per episode.\n",
        "    minimization_solver : bool\n",
        "        Whether the solver is a minimization solver.\n",
        "    num_evals : int\n",
        "        The number of evaluations performed.\n",
        "    \"\"\"\n",
        "\n",
        "    def __init__(\n",
        "        self,\n",
        "        env: gym.Env,\n",
        "        policy: torch.nn.Module,\n",
        "        num_episodes: int = 1,\n",
        "        max_time_steps: float = float(\"inf\"),\n",
        "        minimization_solver: bool = True,\n",
        "    ):\n",
        "        self.env = env\n",
        "        self.policy = policy\n",
        "        self.num_episodes = num_episodes\n",
        "        self.max_time_steps = max_time_steps\n",
        "        self.minimization_solver = minimization_solver\n",
        "\n",
        "        self.num_evals = 0\n",
        "\n",
        "    def eval(self, policy_params: np.ndarray, num_episodes: Optional[int] = None, max_time_steps: Optional[float] = None) -> float:\n",
        "        \"\"\"\n",
        "        Evaluate a policy.\n",
        "\n",
        "        Parameters\n",
        "        ----------\n",
        "        policy_params : np.ndarray\n",
        "            The parameters of the policy to evaluate.\n",
        "        num_episodes : int, optional\n",
        "            The number of episodes to run for each evaluation, by default None.\n",
        "        max_time_steps : float, optional\n",
        "            The maximum number of time steps per episode, by default None.\n",
        "\n",
        "        Returns\n",
        "        -------\n",
        "        float\n",
        "            The average total rewards over the evaluation episodes.\n",
        "        \"\"\"\n",
        "        self.policy.set_params(policy_params)\n",
        "\n",
        "        self.num_evals += 1\n",
        "\n",
        "        if num_episodes is None:\n",
        "            num_episodes = self.num_episodes\n",
        "\n",
        "        if max_time_steps is None:\n",
        "            max_time_steps = self.max_time_steps\n",
        "\n",
        "        average_total_rewards = 0\n",
        "\n",
        "        for i_episode in range(num_episodes):\n",
        "            total_rewards = 0.0\n",
        "            observation, info = self.env.reset()\n",
        "\n",
        "            for t in range(max_time_steps):\n",
        "                action = self.policy(observation)\n",
        "                observation, reward, terminated, truncated, info = self.env.step(action)\n",
        "                total_rewards += reward\n",
        "\n",
        "                done = terminated or truncated\n",
        "\n",
        "                if done:\n",
        "                    break\n",
        "\n",
        "            average_total_rewards += float(total_rewards) / num_episodes\n",
        "\n",
        "        if self.minimization_solver:\n",
        "            average_total_rewards *= -1.0\n",
        "\n",
        "        return average_total_rewards  # Optimizers do minimization by default...\n",
        "\n",
        "    def __call__(self, policy_params: np.ndarray, num_episodes: Optional[int] = None, max_time_steps: Optional[float] = None) -> float:\n",
        "        \"\"\"\n",
        "        Evaluate a policy.\n",
        "\n",
        "        Parameters\n",
        "        ----------\n",
        "        policy_params : np.ndarray\n",
        "            The parameters of the policy to evaluate.\n",
        "        num_episodes : int, optional\n",
        "            The number of episodes to run for each evaluation, by default None.\n",
        "        max_time_steps : float, optional\n",
        "            The maximum number of time steps per episode, by default None.\n",
        "\n",
        "        Returns\n",
        "        -------\n",
        "        float\n",
        "            The average total rewards over the evaluation episodes.\n",
        "        \"\"\"\n",
        "        return self.eval(policy_params, num_episodes, max_time_steps)"
      ]
    },
    {
      "cell_type": "markdown",
      "metadata": {
        "id": "G5-lFOGNBwsV"
      },
      "source": [
        "### Implement the CEM optimization algorithm"
      ]
    },
    {
      "cell_type": "markdown",
      "metadata": {
        "id": "dUeghLi1Bwsg"
      },
      "source": [
        "**Task 1**: Implement the `cem_uncorrelated` function that search the best $\\theta$ parameters with a Cross Entropy Method. Use the objective function defined above.\n",
        "$\\mathbb{P}$ can be defined as an multivariate normal distribution $\\mathcal{N}\\left( \\boldsymbol{\\mu}, \\boldsymbol{\\sigma^2} \\boldsymbol{\\Sigma} \\right)$ where $\\boldsymbol{\\mu}$ and $\\boldsymbol{\\sigma^2} \\boldsymbol{\\Sigma}$ are vectors i.e. we use one mean and one variance parameters per dimension of $\\boldsymbol{\\theta}$."
      ]
    },
    {
      "cell_type": "markdown",
      "metadata": {
        "lines_to_next_cell": 2,
        "id": "RGtmc4sqBwsg"
      },
      "source": [
        "**Cross Entropy**\n",
        "\n",
        "**Input**:<br>\n",
        "$\\quad\\quad$ $f$: the objective function<br>\n",
        "$\\quad\\quad$ $\\mathbb{P}$: family of distribution<br>\n",
        "$\\quad\\quad$ $\\boldsymbol{\\theta}$: initial parameters for the proposal distribution $\\mathbb{P}$<br>\n",
        "\n",
        "**Algorithm parameter**:<br>\n",
        "$\\quad\\quad$ $m$: sample size<br>\n",
        "$\\quad\\quad$ $m_{\\text{elite}}$: number of samples to use to fit $\\boldsymbol{\\theta}$<br>\n",
        "\n",
        "**FOR EACH** iteration<br>\n",
        "$\\quad\\quad$ samples $\\leftarrow \\{ \\boldsymbol{x}_1, \\dots, \\boldsymbol{x}_m \\}$ with $\\boldsymbol{x}_i \\sim \\mathbb{P}(\\boldsymbol{\\theta}) ~~ \\forall i \\in 1\\dots m$<br>\n",
        "$\\quad\\quad$ elite $\\leftarrow $ { $m_{\\text{elite}}$ best samples } $\\quad$ (i.e. select best samples according to $f$)<br>\n",
        "$\\quad\\quad$ $\\boldsymbol{\\theta} \\leftarrow $ fit $\\mathbb{P}(\\boldsymbol{\\theta})$ to the elite samples<br>\n",
        "\n",
        "**RETURN** $\\boldsymbol{\\theta}$"
      ]
    },
    {
      "cell_type": "code",
      "execution_count": null,
      "metadata": {
        "id": "l983fURuBwsg"
      },
      "outputs": [],
      "source": [
        "def cem_uncorrelated(\n",
        "    objective_function: Callable[[np.ndarray], float],\n",
        "    mean_array: np.ndarray,\n",
        "    var_array: np.ndarray,\n",
        "    max_iterations: int = 500,\n",
        "    sample_size: int = 50,\n",
        "    elite_frac: float = 0.2,\n",
        "    print_every: int = 10,\n",
        "    success_score: float = float(\"inf\"),\n",
        "    num_evals_for_stop: Optional[int] = None,\n",
        "    hist_dict: Optional[dict] = None,\n",
        ") -> np.ndarray:\n",
        "    \"\"\"\n",
        "    Cross-entropy method.\n",
        "\n",
        "    Parameters\n",
        "    ----------\n",
        "    objective_function : Callable[[np.ndarray], float]\n",
        "        The function to maximize.\n",
        "    mean_array : np.ndarray\n",
        "        The initial proposal distribution (mean vector).\n",
        "    var_array : np.ndarray\n",
        "        The initial proposal distribution (variance vector).\n",
        "    max_iterations : int, optional\n",
        "        Number of training iterations, by default 500.\n",
        "    sample_size : int, optional\n",
        "        Size of population at each iteration, by default 50.\n",
        "    elite_frac : float, optional\n",
        "        Rate of top performers to use in update with elite_frac ∈ ]0;1], by default 0.2.\n",
        "    print_every : int, optional\n",
        "        How often to print average score, by default 10.\n",
        "    success_score : float, optional\n",
        "        The score at which to stop the optimization, by default float(\"inf\").\n",
        "    num_evals_for_stop : Optional[int], optional\n",
        "        Number of evaluations for stopping criteria, by default None.\n",
        "    hist_dict : Optional[dict], optional\n",
        "        Dictionary to log the history, by default None.\n",
        "\n",
        "    Returns\n",
        "    -------\n",
        "    np.ndarray\n",
        "        The optimized mean vector.\n",
        "    \"\"\"\n",
        "    assert 0.0 < elite_frac <= 1.0\n",
        "\n",
        "    n_elite = math.ceil(sample_size * elite_frac)\n",
        "\n",
        "    for iteration_index in range(0, max_iterations):\n",
        "\n",
        "        # SAMPLE A NEW POPULATION OF SOLUTIONS (X VECTORS) ####################\n",
        "\n",
        "        x_array = ... # TODO...\n",
        "\n",
        "        # EVALUATE SAMPLES AND EXTRACT THE BEST ONES (\"ELITE\") ################\n",
        "\n",
        "        score_array = ... # TODO...\n",
        "\n",
        "        sorted_indices_array = ... # TODO...             # Sort from the lower score to the higher one\n",
        "        elite_indices_array = ... # TODO...              # Recall: we *minimize* the objective function thus we take the samples that are at the begining of the sorted_indices\n",
        "\n",
        "        elite_x_array = ... # TODO...\n",
        "\n",
        "        # FIT THE NORMAL DISTRIBUTION ON THE ELITE POPULATION #################\n",
        "\n",
        "        mean_array = ... # TODO...\n",
        "        var_array = ... # TODO...\n",
        "        score = ... # TODO...\n",
        "\n",
        "        # PRINT STATUS ########################################################\n",
        "\n",
        "        if iteration_index % print_every == 0:\n",
        "            print(\"Iteration {}\\tScore {}\".format(iteration_index, score))\n",
        "\n",
        "        if hist_dict is not None:\n",
        "            hist_dict[iteration_index] = [score] + mean_array.tolist() + var_array.tolist()\n",
        "\n",
        "        # STOPPING CRITERIA ####################################################\n",
        "\n",
        "        if num_evals_for_stop is not None:\n",
        "            score = ... # TODO...\n",
        "\n",
        "        # `num_evals_for_stop = None` may be used to fasten computations but it introduces bias...\n",
        "        if score <= success_score:\n",
        "            break\n",
        "\n",
        "    return mean_array"
      ]
    },
    {
      "cell_type": "markdown",
      "metadata": {
        "id": "1gHfd_TdBwsg"
      },
      "source": [
        "### Train the agent"
      ]
    },
    {
      "cell_type": "markdown",
      "metadata": {
        "id": "lAFZ4R5LBwsh"
      },
      "source": [
        "**Task 2:** train your implementation using the following cells."
      ]
    },
    {
      "cell_type": "code",
      "execution_count": null,
      "metadata": {
        "id": "NkWGKj-XBwsh"
      },
      "outputs": [],
      "source": [
        "env = gym.make(\"CartPole-v1\")\n",
        "\n",
        "nn_policy = LogisticRegression(env.observation_space.shape[0])\n",
        "\n",
        "objective_function = ObjectiveFunction(\n",
        "    env=env, policy=nn_policy, num_episodes=10, max_time_steps=1000\n",
        ")"
      ]
    },
    {
      "cell_type": "code",
      "execution_count": null,
      "metadata": {
        "id": "aXa0go3kBwsh"
      },
      "outputs": [],
      "source": [
        "%%time\n",
        "\n",
        "hist_dict = {}\n",
        "\n",
        "num_params = len(nn_policy.get_params())\n",
        "\n",
        "init_mean_array = np.random.random(num_params)\n",
        "init_var_array = np.ones(num_params) * 100.0\n",
        "\n",
        "optimized_policy_params = cem_uncorrelated(\n",
        "    objective_function=objective_function,\n",
        "    mean_array=init_mean_array,\n",
        "    var_array=init_var_array,\n",
        "    max_iterations=30,\n",
        "    sample_size=50,\n",
        "    elite_frac=0.1,\n",
        "    print_every=1,\n",
        "    success_score=-500,\n",
        "    num_evals_for_stop=None,\n",
        "    hist_dict=hist_dict,\n",
        ")\n",
        "\n",
        "env.close()"
      ]
    },
    {
      "cell_type": "code",
      "execution_count": null,
      "metadata": {
        "lines_to_next_cell": 0,
        "id": "qMDneSJyBwsh"
      },
      "outputs": [],
      "source": [
        "df = pd.DataFrame.from_dict(\n",
        "    hist_dict,\n",
        "    orient=\"index\",\n",
        "    columns=[\"score\", \"mu1\", \"mu2\", \"mu3\", \"mu4\", \"var1\", \"var2\", \"var3\", \"var4\"],\n",
        ")\n",
        "ax = df.score.plot(title=\"Average reward\", figsize=(20, 5))\n",
        "plt.xlabel(\"Training Steps\")\n",
        "plt.ylabel(\"Reward\")\n",
        "plt.savefig(PLOTS_DIR / \"lab7_ex1_cem_cartpole_avg_reward_wrt_iterations.png\");"
      ]
    },
    {
      "cell_type": "code",
      "execution_count": null,
      "metadata": {
        "lines_to_next_cell": 0,
        "id": "udNvwsI4Bwsh"
      },
      "outputs": [],
      "source": [
        "ax = df[[\"mu1\", \"mu2\", \"mu3\", \"mu4\"]].plot(\n",
        "    title=\"Theta w.r.t training steps\", figsize=(20, 5)\n",
        ");\n",
        "plt.xlabel(\"Training Steps\")\n",
        "plt.savefig(PLOTS_DIR / \"lab7_ex1_cem_cartpole_params_wrt_iterations.png\");"
      ]
    },
    {
      "cell_type": "code",
      "execution_count": null,
      "metadata": {
        "id": "bm5lv73MBwsi"
      },
      "outputs": [],
      "source": [
        "ax = df[[\"var1\", \"var2\", \"var3\", \"var4\"]].plot(\n",
        "    logy=True, title=\"Variance w.r.t training steps\", figsize=(20, 5)\n",
        ")\n",
        "plt.xlabel(\"Training Steps\")\n",
        "plt.savefig(PLOTS_DIR / \"lab7_ex1_cem_cartpole_var_wrt_iterations.png\");"
      ]
    },
    {
      "cell_type": "code",
      "execution_count": null,
      "metadata": {
        "scrolled": true,
        "id": "wFPFllzrBwsi"
      },
      "outputs": [],
      "source": [
        "print(\"Optimized weights: \", optimized_policy_params)"
      ]
    },
    {
      "cell_type": "markdown",
      "metadata": {
        "id": "PxyGTLxcBwsi"
      },
      "source": [
        "### Test the trained agent"
      ]
    },
    {
      "cell_type": "markdown",
      "metadata": {
        "id": "qqOnEA6RBwsi"
      },
      "source": [
        "**Task 3:** test the optimized policy"
      ]
    },
    {
      "cell_type": "code",
      "execution_count": null,
      "metadata": {
        "lines_to_next_cell": 2,
        "id": "yDkMB8SYBwsi"
      },
      "outputs": [],
      "source": [
        "VIDEO_PREFIX_EX1_CEM_CARTPOLE_TRAINED = \"lab7_ex1_cem_cartpole_tained\"\n",
        "\n",
        "NUM_EPISODES = 3\n",
        "\n",
        "file_path_list = [\n",
        "    FIGS_DIR / f\"{VIDEO_PREFIX_EX1_CEM_CARTPOLE_TRAINED}-episode-{episode_index}.mp4\"\n",
        "    for episode_index in range(NUM_EPISODES)\n",
        "]\n",
        "\n",
        "for file_path in file_path_list:\n",
        "    file_path.unlink(missing_ok=True)\n",
        "\n",
        "env = gym.make(\"CartPole-v1\", render_mode=\"rgb_array\")\n",
        "env = gym.wrappers.RecordVideo(\n",
        "    env,\n",
        "    video_folder=str(FIGS_DIR),\n",
        "    name_prefix=VIDEO_PREFIX_EX1_CEM_CARTPOLE_TRAINED,\n",
        "    episode_trigger=lambda x: True,\n",
        ")\n",
        "env = gym.wrappers.RecordEpisodeStatistics(env, buffer_length=NUM_EPISODES)\n",
        "\n",
        "objective_function = ObjectiveFunction(env=env, policy=nn_policy)\n",
        "\n",
        "objective_function.eval(optimized_policy_params, num_episodes=NUM_EPISODES, max_time_steps=200)\n",
        "\n",
        "# print(f'Episode time taken: {env.time_queue}')\n",
        "# print(f'Episode total rewards: {env.return_queue}')\n",
        "# print(f'Episode lengths: {env.length_queue}')\n",
        "\n",
        "env.close()\n",
        "\n",
        "print(\"\\nSelect the episode to play here 👇\\n\")\n",
        "\n",
        "interact(video_selector, file_path=file_path_list);"
      ]
    },
    {
      "cell_type": "markdown",
      "metadata": {
        "id": "xce3rpa_Bwsi"
      },
      "source": [
        "## Exercise 2: implement SAES and solve the CartPole problem with it"
      ]
    },
    {
      "cell_type": "markdown",
      "metadata": {
        "id": "yW3mW5X0Bwsi"
      },
      "source": [
        "### Implement the (1+1)-SA-ES optimization algorithm"
      ]
    },
    {
      "cell_type": "markdown",
      "metadata": {
        "id": "5CjZ45hfBwsj"
      },
      "source": [
        "**Task 1**: Implement the `saes_1_1` function that search the best $\\theta$ parameters with a (1+1)-SA-ES algorithm. Use the objective function defined above."
      ]
    },
    {
      "cell_type": "markdown",
      "metadata": {
        "lines_to_next_cell": 2,
        "id": "WobBSPsABwsj"
      },
      "source": [
        "**(1+1)-SA-ES**\n",
        "\n",
        "**Input**:<br>\n",
        "$\\quad\\quad$ $f$: the objective function<br>\n",
        "$\\quad\\quad$ $\\boldsymbol{x}$: initial solution<br>\n",
        "\n",
        "**Algorithm parameter**:<br>\n",
        "$\\quad\\quad$ $\\tau$: self-adaptation learning rate<br>\n",
        "\n",
        "**FOR EACH** generation<br>\n",
        "$\\quad\\quad$ 1. mutation of $\\sigma$ (current individual strategy) : $\\sigma' \\leftarrow \\sigma ~ e^{\\tau \\mathcal{N}(0,1)}$<br>\n",
        "$\\quad\\quad$ 2. mutation of $\\boldsymbol{x}$ (current solution) : $\\boldsymbol{x}' \\leftarrow \\boldsymbol{x} + \\sigma' ~ \\mathcal{N}(0,1)$<br>\n",
        "$\\quad\\quad$ 3. eval $f(\\boldsymbol{x}')$<br>\n",
        "$\\quad\\quad$ 4. survivor selection $\\boldsymbol{x} \\leftarrow \\boldsymbol{x}'$ and $\\sigma \\leftarrow \\sigma'$ if $f(\\boldsymbol{x}') \\leq f(\\boldsymbol{x})$<br>\n",
        "\n",
        "**RETURN** $\\boldsymbol{x}$"
      ]
    },
    {
      "cell_type": "code",
      "execution_count": null,
      "metadata": {
        "id": "Jju67Tb0Bwsj"
      },
      "outputs": [],
      "source": [
        "def saes_1_1(\n",
        "    objective_function: Callable[[np.ndarray], float],\n",
        "    x_array: np.ndarray,\n",
        "    sigma_array: np.ndarray,\n",
        "    max_iterations: int = 500,\n",
        "    tau: Optional[float] = None,\n",
        "    print_every: int = 10,\n",
        "    success_score: float = float(\"inf\"),\n",
        "    num_evals_for_stop: Optional[int] = None,\n",
        "    hist_dict: Optional[dict] = None,\n",
        ") -> np.ndarray:\n",
        "    \"\"\"\n",
        "    (1+1)-Self-Adaptive Evolution Strategy (SA-ES) optimization algorithm.\n",
        "\n",
        "    Parameters\n",
        "    ----------\n",
        "    objective_function : Callable[[np.ndarray], float]\n",
        "        The function to minimize.\n",
        "    x_array : np.ndarray\n",
        "        The initial solution vector.\n",
        "    sigma_array : np.ndarray\n",
        "        The initial strategy parameter vector (step sizes).\n",
        "    max_iterations : int, optional\n",
        "        The maximum number of iterations, by default 500.\n",
        "    tau : Optional[float], optional\n",
        "        The self-adaptation learning rate, by default None.\n",
        "    print_every : int, optional\n",
        "        How often to print the current score, by default 10.\n",
        "    success_score : float, optional\n",
        "        The score at which to stop the optimization, by default float(\"inf\").\n",
        "    num_evals_for_stop : Optional[int], optional\n",
        "        Number of evaluations for stopping criteria, by default None.\n",
        "    hist_dict : Optional[dict], optional\n",
        "        Dictionary to log the history, by default None.\n",
        "\n",
        "    Returns\n",
        "    -------\n",
        "    np.ndarray\n",
        "        The optimized solution vector.\n",
        "    \"\"\"\n",
        "    # Number of dimension of the solution space\n",
        "    d = x_array.shape[0]\n",
        "\n",
        "    if tau is None:\n",
        "        # Self-adaptation learning rate\n",
        "        tau = 1.0 / (2.0 * d)\n",
        "\n",
        "    score = objective_function(x_array)\n",
        "\n",
        "    for iteration_index in range(0, max_iterations):\n",
        "        # 1. Mutation of sigma (current \"individual strategy\")\n",
        "        new_sigma_array = ... # TODO...\n",
        "\n",
        "        # 2. Mutation of x (current solution)\n",
        "        new_x_array = ... # TODO...\n",
        "\n",
        "        # 3. Eval f(x')\n",
        "        new_score = ... # TODO...\n",
        "\n",
        "        # 4. survivor selection (we follow the ES convention and do minimization)\n",
        "        if new_score <= score:  # You may try `new_score < score` for less exploration\n",
        "            score = ... # TODO...\n",
        "            x_array = ... # TODO...\n",
        "            sigma_array = ... # TODO...\n",
        "\n",
        "        # PRINT STATUS ########################################################\n",
        "\n",
        "        if iteration_index % print_every == 0:\n",
        "            print(\"Iteration {}\\tScore {}\".format(iteration_index, score))\n",
        "\n",
        "        if hist_dict is not None:\n",
        "            hist_dict[iteration_index] = [score] + x_array.tolist() + sigma_array.tolist()\n",
        "\n",
        "        # STOPPING CRITERIA ####################################################\n",
        "\n",
        "        if num_evals_for_stop is not None:\n",
        "            score = ... # TODO...\n",
        "\n",
        "        # `num_evals_for_stop = None` may be used to fasten computations but it introduces bias...\n",
        "        if score <= success_score:\n",
        "            break\n",
        "\n",
        "    return x_array"
      ]
    },
    {
      "cell_type": "markdown",
      "metadata": {
        "id": "6wWHNTRHBwsj"
      },
      "source": [
        "### Train the agent"
      ]
    },
    {
      "cell_type": "markdown",
      "metadata": {
        "id": "DFMZb5c_Bwsj"
      },
      "source": [
        "**Task 2:** train your implementation using the following cells."
      ]
    },
    {
      "cell_type": "code",
      "execution_count": null,
      "metadata": {
        "id": "eduUhqSjBwsj"
      },
      "outputs": [],
      "source": [
        "env = gym.make(\"CartPole-v1\")\n",
        "\n",
        "nn_policy = LogisticRegression(env.observation_space.shape[0])\n",
        "\n",
        "objective_function = ObjectiveFunction(\n",
        "    env=env, policy=nn_policy, num_episodes=10, max_time_steps=1000\n",
        ")"
      ]
    },
    {
      "cell_type": "code",
      "execution_count": null,
      "metadata": {
        "id": "iPmommetBwsj"
      },
      "outputs": [],
      "source": [
        "%%time\n",
        "\n",
        "hist_dict = {}\n",
        "\n",
        "num_params = len(nn_policy.get_params())\n",
        "\n",
        "initial_solution_array = np.random.random(num_params)\n",
        "initial_sigma_array = np.ones(num_params) * 1.0\n",
        "\n",
        "optimized_policy_params = saes_1_1(\n",
        "    objective_function=objective_function,\n",
        "    x_array=initial_solution_array,\n",
        "    sigma_array=initial_sigma_array,\n",
        "    tau=0.001,\n",
        "    max_iterations=1000,\n",
        "    print_every=100,\n",
        "    success_score=-500,\n",
        "    num_evals_for_stop=None,\n",
        "    hist_dict=hist_dict,\n",
        ")\n",
        "\n",
        "env.close()"
      ]
    },
    {
      "cell_type": "code",
      "execution_count": null,
      "metadata": {
        "lines_to_next_cell": 0,
        "id": "WMz0KUFsBwsk"
      },
      "outputs": [],
      "source": [
        "df = pd.DataFrame.from_dict(\n",
        "    hist_dict,\n",
        "    orient=\"index\",\n",
        "    columns=[\n",
        "        \"score\",\n",
        "        \"mu1\",\n",
        "        \"mu2\",\n",
        "        \"mu3\",\n",
        "        \"mu4\",\n",
        "        \"sigma1\",\n",
        "        \"sigma2\",\n",
        "        \"sigma3\",\n",
        "        \"sigma4\",\n",
        "    ],\n",
        ")\n",
        "ax = df.score.plot(title=\"Average reward\", figsize=(30, 5))\n",
        "plt.xlabel(\"Training Steps\")\n",
        "plt.ylabel(\"Reward\")\n",
        "plt.savefig(PLOTS_DIR / \"lab7_ex2_saes_cartpole_avg_reward_wrt_iterations.png\");"
      ]
    },
    {
      "cell_type": "code",
      "execution_count": null,
      "metadata": {
        "lines_to_next_cell": 0,
        "id": "Hgf7J3B7Bwsk"
      },
      "outputs": [],
      "source": [
        "ax = df[[\"mu1\", \"mu2\", \"mu3\", \"mu4\"]].plot(\n",
        "    title=\"Theta w.r.t training steps\", figsize=(30, 5)\n",
        ")\n",
        "plt.xlabel(\"Training Steps\")\n",
        "plt.savefig(PLOTS_DIR / \"lab7_ex2_saes_cartpole_params_wrt_iterations.png\");"
      ]
    },
    {
      "cell_type": "code",
      "execution_count": null,
      "metadata": {
        "id": "46sOVOafBwsk"
      },
      "outputs": [],
      "source": [
        "ax = df[[\"sigma1\", \"sigma2\", \"sigma3\", \"sigma4\"]].plot(\n",
        "    logy=True, title=\"Sigma w.r.t training steps\", figsize=(30, 5)\n",
        ")\n",
        "plt.xlabel(\"Training Steps\")\n",
        "plt.savefig(PLOTS_DIR / \"lab7_ex2_saes_cartpole_var_wrt_iterations.png\");"
      ]
    },
    {
      "cell_type": "code",
      "execution_count": null,
      "metadata": {
        "id": "_722J3qTBwsk"
      },
      "outputs": [],
      "source": [
        "print(\"Optimized weights: \", optimized_policy_params)"
      ]
    },
    {
      "cell_type": "markdown",
      "metadata": {
        "id": "__sIV2LJBwsk"
      },
      "source": [
        "### Test the trained agent"
      ]
    },
    {
      "cell_type": "markdown",
      "metadata": {
        "id": "fpudTgGqBwsk"
      },
      "source": [
        "**Task 3:** test the optimized policy"
      ]
    },
    {
      "cell_type": "code",
      "execution_count": null,
      "metadata": {
        "lines_to_next_cell": 2,
        "id": "T2-V44VFBwsk"
      },
      "outputs": [],
      "source": [
        "VIDEO_PREFIX_EX2_SAES_CARTPOLE_TRAINED = \"lab7_ex2_saes_cartpole_tained\"\n",
        "\n",
        "NUM_EPISODES = 3\n",
        "\n",
        "file_path_list = [\n",
        "    FIGS_DIR / f\"{VIDEO_PREFIX_EX2_SAES_CARTPOLE_TRAINED}-episode-{episode_index}.mp4\"\n",
        "    for episode_index in range(NUM_EPISODES)\n",
        "]\n",
        "\n",
        "for file_path in file_path_list:\n",
        "    file_path.unlink(missing_ok=True)\n",
        "\n",
        "env = gym.make(\"CartPole-v1\", render_mode=\"rgb_array\")\n",
        "env = gym.wrappers.RecordVideo(\n",
        "    env,\n",
        "    video_folder=str(FIGS_DIR),\n",
        "    name_prefix=VIDEO_PREFIX_EX2_SAES_CARTPOLE_TRAINED,\n",
        "    episode_trigger=lambda x: True,\n",
        ")\n",
        "env = gym.wrappers.RecordEpisodeStatistics(env, buffer_length=NUM_EPISODES)\n",
        "\n",
        "objective_function = ObjectiveFunction(env=env, policy=nn_policy)\n",
        "\n",
        "objective_function.eval(optimized_policy_params, num_episodes=NUM_EPISODES, max_time_steps=200)\n",
        "\n",
        "# print(f'Episode time taken: {env.time_queue}')\n",
        "# print(f'Episode total rewards: {env.return_queue}')\n",
        "# print(f'Episode lengths: {env.length_queue}')\n",
        "\n",
        "env.close()\n",
        "\n",
        "print(\"\\nSelect the episode to play here 👇\\n\")\n",
        "\n",
        "interact(video_selector, file_path=file_path_list);"
      ]
    },
    {
      "cell_type": "markdown",
      "metadata": {
        "id": "Bx2p5GdVBwsk"
      },
      "source": [
        "**Task 4:** try different values of $\\tau$. What happen ?"
      ]
    },
    {
      "cell_type": "markdown",
      "metadata": {
        "id": "FY7c_wpYBwsl"
      },
      "source": [
        "## Exercise 3: Implement a parametric policy $\\pi_\\theta$ for environments having a continuous action space"
      ]
    },
    {
      "cell_type": "markdown",
      "metadata": {
        "lines_to_next_cell": 2,
        "id": "Ml7STcZgBwsl"
      },
      "source": [
        "To solve problems having a continuous space, especially to solve the LunarLander problem in the next exercise, we need to define and implement an appropriate parametric policy.\n",
        "For this purpose, we recommend the following neural network:\n",
        "- one hidden layer of 16 units having a ReLu activation function\n",
        "- a tanh activation function on the output layer (be careful on the number of output units)\n",
        "\n",
        "To solve environments with continuous action space like LunarLander with Direct Policy Search methods, a simple procedure that compute the feed forward signal is needed (we don't do back propagation here).\n",
        "A procedure to set/get weights of the network from/to a single vector $\\theta$ will also be required."
      ]
    },
    {
      "cell_type": "code",
      "execution_count": null,
      "metadata": {
        "id": "T14GVNI9Bwsl"
      },
      "outputs": [],
      "source": [
        "class NeuralNetworkPolicy(torch.nn.Module):\n",
        "    \"\"\"\n",
        "    A neural network used as a policy.\n",
        "\n",
        "    Attributes\n",
        "    ----------\n",
        "    hidden_layer : torch.nn.Linear\n",
        "        The hidden layer of the neural network.\n",
        "    output_layer : torch.nn.Linear\n",
        "        The output layer of the neural network.\n",
        "\n",
        "    Methods\n",
        "    -------\n",
        "    forward(observation: torch.Tensor) -> np.ndarray\n",
        "        Define the forward pass of the NeuralNetworkPolicy.\n",
        "    get_params() -> np.ndarray\n",
        "        Get the parameters of the neural network.\n",
        "    set_params(params: np.ndarray) -> None\n",
        "        Set the parameters of the neural network.\n",
        "    \"\"\"\n",
        "\n",
        "    def __init__(\n",
        "        self, observations_size: int, actions_size: int, hidden_size: int = 16\n",
        "    ):\n",
        "        \"\"\"\n",
        "        Initialize a new instance of NeuralNetworkPolicy.\n",
        "\n",
        "        Parameters\n",
        "        ----------\n",
        "        observations_size : int\n",
        "            The size of the observation space (i.e. the number of features i.e. the number of elements in the observation vector).\n",
        "        actions_size : int\n",
        "            The size of the action space.\n",
        "        hidden_size : int, optional\n",
        "            The number of units in the hidden layer, by default 16.\n",
        "        \"\"\"\n",
        "        super(NeuralNetworkPolicy, self).__init__()\n",
        "\n",
        "        self.hidden_layer = ... # TODO...\n",
        "        self.output_layer = ... # TODO...\n",
        "\n",
        "    def forward(self, observation: torch.Tensor) -> np.ndarray:\n",
        "        \"\"\"\n",
        "        Calculate the probability of action a_1 for the given observation.\n",
        "\n",
        "        Parameters\n",
        "        ----------\n",
        "        observation : torch.Tensor\n",
        "            The input tensor (observation).\n",
        "            The shape of the tensor should be (N, dim),\n",
        "            where N is the number of observations vectors in the batch\n",
        "            and dim is the dimension of observation vectors.\n",
        "\n",
        "        Returns\n",
        "        -------\n",
        "        np.ndarray\n",
        "            The output tensor (the probability of each action for the given observation).\n",
        "        \"\"\"\n",
        "        with torch.no_grad():\n",
        "            observation_tensor = ... # TODO...\n",
        "            hidden_tensor = ... # TODO...\n",
        "            output_tensor = ... # TODO...\n",
        "            return output_tensor.squeeze().detach().cpu().numpy()\n",
        "\n",
        "    def get_params(self) -> np.ndarray:\n",
        "        \"\"\"\n",
        "        Get the parameters of the neural network.\n",
        "\n",
        "        Returns\n",
        "        -------\n",
        "        np.ndarray\n",
        "            The parameters of the neural network.\n",
        "        \"\"\"\n",
        "        params_tensor = torch.nn.utils.parameters_to_vector(self.parameters())\n",
        "        return params_tensor.detach().cpu().numpy()\n",
        "\n",
        "    def set_params(self, params: np.ndarray) -> None:\n",
        "        \"\"\"\n",
        "        Set the parameters of the neural network.\n",
        "\n",
        "        Parameters\n",
        "        ----------\n",
        "        params : np.ndarray\n",
        "            The parameters of the neural network.\n",
        "        \"\"\"\n",
        "        params_tensor = torch.tensor(params, dtype=torch.float32, device=device)\n",
        "        torch.nn.utils.vector_to_parameters(params_tensor, self.parameters())"
      ]
    },
    {
      "cell_type": "markdown",
      "metadata": {
        "id": "Bfyr0vyZBwsl"
      },
      "source": [
        "## Exercise 4: solve the LunarLander problem (continuous version) with CEM and SAES"
      ]
    },
    {
      "cell_type": "markdown",
      "metadata": {
        "id": "VwSKvYBvBwsl"
      },
      "source": [
        "### Hands on the LunarLander problem"
      ]
    },
    {
      "cell_type": "markdown",
      "metadata": {
        "id": "Eo0z4fs3Bwsl"
      },
      "source": [
        "**Task 1:** read https://gymnasium.farama.org/environments/box2d/lunar_lander/ to discover the LunarLanderContinuous environment.\n",
        "\n",
        "**Notice:** A reminder of Gymnasium main concepts is available at https://gymnasium.farama.org/introduction/basic_usage/."
      ]
    },
    {
      "cell_type": "markdown",
      "metadata": {
        "id": "sRS8zZ3SBwsl"
      },
      "source": [
        "Print some information about the environment:"
      ]
    },
    {
      "cell_type": "code",
      "execution_count": null,
      "metadata": {
        "id": "zLTVUut5Bwsl"
      },
      "outputs": [],
      "source": [
        "env = gym.make(\"LunarLander-v3\", continuous=True)\n",
        "print(\"Observation space dimension is:\", env.observation_space.shape[0])\n",
        "print(\"Observation upper bounds:\", env.observation_space.high)\n",
        "print(\"Observation lower bounds:\", env.observation_space.low)\n",
        "print(\"Actions upper bounds:\", env.action_space.high)\n",
        "print(\"Actions lower bounds:\", env.action_space.low)\n",
        "env.close()"
      ]
    },
    {
      "cell_type": "markdown",
      "metadata": {
        "id": "WVwENQreBwsm"
      },
      "source": [
        "**Task 2:** Run the following cells and check different basic policies (for instance constant actions or randomly drawn actions) to discover the Lunar Lander environment."
      ]
    },
    {
      "cell_type": "code",
      "execution_count": null,
      "metadata": {
        "id": "WLAYL3OWBwsm"
      },
      "outputs": [],
      "source": [
        "VIDEO_PREFIX_EX4_UNTRAINED = \"lab7_ex4_lunarlander_untrained\"\n",
        "\n",
        "(FIGS_DIR / f\"{VIDEO_PREFIX_EX4_UNTRAINED}-episode-0.mp4\").unlink(missing_ok=True)\n",
        "\n",
        "env = gym.make(\"LunarLander-v3\", continuous=True, render_mode=\"rgb_array\")\n",
        "env = gym.wrappers.RecordVideo(env, video_folder=str(FIGS_DIR), name_prefix=VIDEO_PREFIX_EX4_UNTRAINED)\n",
        "\n",
        "observation, info = env.reset()\n",
        "done = False\n",
        "\n",
        "while not done:\n",
        "    # action = np.array([1., 1.])\n",
        "    action = np.array([-1.0, -1.0])\n",
        "    # action = env.action_space.sample()   # Random policy\n",
        "\n",
        "    observation, reward, terminated, truncated, info = env.step(action)\n",
        "    done = terminated or truncated\n",
        "\n",
        "env.close()\n",
        "\n",
        "Video(\n",
        "    FIGS_DIR / f\"{VIDEO_PREFIX_EX4_UNTRAINED}-episode-0.mp4\",\n",
        "    embed=True,\n",
        "    html_attributes=\"controls autoplay loop\",\n",
        ")"
      ]
    },
    {
      "cell_type": "markdown",
      "metadata": {
        "id": "HVv5yQx2Bwsm"
      },
      "source": [
        "**Note**: If you encounter a dependency issue with *swig*, follow the procedure outlined at https://gymnasium.farama.org/environments/box2d/"
      ]
    },
    {
      "cell_type": "markdown",
      "metadata": {
        "id": "67vr_jgpBwsm"
      },
      "source": [
        "**Question 1:** We want to use CEM and SAES to compute the optimal policy for the Lunar Lander environment.\n",
        "What is the size of the search space (number of dimensions) for optimizers knowing that the policy is the one defined in exercise 3 (a neural network of one hidden layer of 16 neurons) and knowing that the observation space of the Lunar Lander environment is $\\mathcal{S} = \\mathbb{R}^8$ and its action space is $\\mathcal{A} \\subset \\mathbb{R}^2$ ?"
      ]
    },
    {
      "cell_type": "code",
      "execution_count": null,
      "metadata": {
        "id": "r7z2hmwNBwsm"
      },
      "outputs": [],
      "source": [
        "# TODO..."
      ]
    },
    {
      "cell_type": "markdown",
      "metadata": {
        "id": "a_-L_9I5Bwsm"
      },
      "source": [
        "### Train the CEM agent on the LunarLander environment"
      ]
    },
    {
      "cell_type": "markdown",
      "metadata": {
        "id": "GWDOZy_sBwsm"
      },
      "source": [
        "**Task 3:** Train the agent using the CEM algorithm"
      ]
    },
    {
      "cell_type": "code",
      "execution_count": null,
      "metadata": {
        "id": "J_FOdoVgBwsm"
      },
      "outputs": [],
      "source": [
        "env = gym.make(\"LunarLander-v3\", continuous=True)\n",
        "\n",
        "nn_policy = NeuralNetworkPolicy(\n",
        "    observations_size=env.observation_space.shape[0],\n",
        "    actions_size=env.action_space.shape[0],\n",
        "    hidden_size=16,\n",
        ")\n",
        "\n",
        "objective_function = ObjectiveFunction(\n",
        "    env=env, policy=nn_policy, num_episodes=3, max_time_steps=500\n",
        ")"
      ]
    },
    {
      "cell_type": "code",
      "execution_count": null,
      "metadata": {
        "id": "7l124nWFBwsn"
      },
      "outputs": [],
      "source": [
        "%%time\n",
        "\n",
        "hist_dict = {}\n",
        "\n",
        "num_params = len(nn_policy.get_params())\n",
        "\n",
        "init_mean_array = np.random.random(num_params)\n",
        "init_var_array = np.ones(num_params) * 1000.0\n",
        "\n",
        "optimized_policy_params = cem_uncorrelated(\n",
        "    objective_function=objective_function,\n",
        "    mean_array=init_mean_array,\n",
        "    var_array=init_var_array,\n",
        "    max_iterations=100,\n",
        "    sample_size=50,\n",
        "    elite_frac=0.2,\n",
        "    print_every=1,\n",
        "    success_score=-200,\n",
        "    hist_dict=hist_dict,\n",
        ")\n",
        "\n",
        "objective_function.env.close()"
      ]
    },
    {
      "cell_type": "code",
      "execution_count": null,
      "metadata": {
        "lines_to_next_cell": 0,
        "id": "sNID3QPMBwsn"
      },
      "outputs": [],
      "source": [
        "df = pd.DataFrame.from_dict(hist_dict, orient=\"index\")\n",
        "ax = df.iloc[:, 0].plot(title=\"Average reward\", figsize=(20, 5))\n",
        "plt.xlabel(\"Training Steps\")\n",
        "plt.ylabel(\"Reward\")\n",
        "plt.savefig(PLOTS_DIR / \"lab7_ex4_cem_lunarlander_avg_reward_wrt_iterations.png\");"
      ]
    },
    {
      "cell_type": "code",
      "execution_count": null,
      "metadata": {
        "lines_to_next_cell": 0,
        "id": "SVaee1JnBwsn"
      },
      "outputs": [],
      "source": [
        "ax = df.iloc[:, 1:66].plot(\n",
        "    title=\"Theta w.r.t training steps\", legend=None, figsize=(20, 10)\n",
        ")\n",
        "# ax.get_legend().remove()\n",
        "plt.xlabel(\"Training Steps\")\n",
        "plt.savefig(PLOTS_DIR / \"lab7_ex4_cem_lunarlander_params_wrt_iterations.png\");"
      ]
    },
    {
      "cell_type": "code",
      "execution_count": null,
      "metadata": {
        "id": "tnlgQTzPBwsn"
      },
      "outputs": [],
      "source": [
        "ax = df.iloc[:, 67:].plot(\n",
        "    logy=True, title=\"Variance w.r.t training steps\", legend=None, figsize=(20, 10)\n",
        ")\n",
        "# ax.get_legend().remove()\n",
        "plt.xlabel(\"Training Steps\")\n",
        "plt.savefig(PLOTS_DIR / \"lab7_ex4_cem_lunarlander_var_wrt_iterations.png\");"
      ]
    },
    {
      "cell_type": "code",
      "execution_count": null,
      "metadata": {
        "id": "xSKJsWaLBwsn"
      },
      "outputs": [],
      "source": [
        "print(\"Optimized weights: \", optimized_policy_params)"
      ]
    },
    {
      "cell_type": "markdown",
      "metadata": {
        "id": "sBHKRN4HBwsn"
      },
      "source": [
        "### Test the trained agent"
      ]
    },
    {
      "cell_type": "markdown",
      "metadata": {
        "id": "PSnc8ayeBwsn"
      },
      "source": [
        "**Task 4:** check the optimized policy."
      ]
    },
    {
      "cell_type": "code",
      "execution_count": null,
      "metadata": {
        "id": "WzAaLxw5Bwsn"
      },
      "outputs": [],
      "source": [
        "VIDEO_PREFIX_EX4_CEM_LUNARLANDER_TRAINED = \"lab7_ex4_cem_lunarlander_tained\"\n",
        "\n",
        "NUM_EPISODES = 3\n",
        "\n",
        "file_path_list = [\n",
        "    FIGS_DIR / f\"{VIDEO_PREFIX_EX4_CEM_LUNARLANDER_TRAINED}-episode-{episode_index}.mp4\"\n",
        "    for episode_index in range(NUM_EPISODES)\n",
        "]\n",
        "\n",
        "for file_path in file_path_list:\n",
        "    file_path.unlink(missing_ok=True)\n",
        "\n",
        "env = gym.make(\"LunarLander-v3\", continuous=True, render_mode=\"rgb_array\")\n",
        "env = gym.wrappers.RecordVideo(\n",
        "    env,\n",
        "    video_folder=str(FIGS_DIR),\n",
        "    name_prefix=VIDEO_PREFIX_EX4_CEM_LUNARLANDER_TRAINED,\n",
        "    episode_trigger=lambda x: True,\n",
        ")\n",
        "env = gym.wrappers.RecordEpisodeStatistics(env, buffer_length=NUM_EPISODES)\n",
        "\n",
        "objective_function = ObjectiveFunction(env=env, policy=nn_policy)\n",
        "\n",
        "objective_function.eval(optimized_policy_params, num_episodes=NUM_EPISODES, max_time_steps=500)\n",
        "\n",
        "# print(f'Episode time taken: {env.time_queue}')\n",
        "# print(f'Episode total rewards: {env.return_queue}')\n",
        "# print(f'Episode lengths: {env.length_queue}')\n",
        "\n",
        "env.close()\n",
        "\n",
        "print(\"\\nSelect the episode to play here 👇\\n\")\n",
        "\n",
        "interact(video_selector, file_path=file_path_list);"
      ]
    },
    {
      "cell_type": "markdown",
      "metadata": {
        "id": "hX0ZtVWrBwsn"
      },
      "source": [
        "### Train the (1+1)-SA-ES agent on the LunarLander environment"
      ]
    },
    {
      "cell_type": "markdown",
      "metadata": {
        "id": "0mlcEn4TBwso"
      },
      "source": [
        "**Task 5:** Train the agent using the (1+1)-SA-ES algorithm"
      ]
    },
    {
      "cell_type": "code",
      "execution_count": null,
      "metadata": {
        "id": "bZlMaHElBwso"
      },
      "outputs": [],
      "source": [
        "env = gym.make(\"LunarLander-v3\", continuous=True)\n",
        "\n",
        "nn_policy = NeuralNetworkPolicy(\n",
        "    observations_size=env.observation_space.shape[0],\n",
        "    actions_size=env.action_space.shape[0],\n",
        "    hidden_size=16,\n",
        ")\n",
        "\n",
        "objective_function = ObjectiveFunction(\n",
        "    env=env,\n",
        "    policy=nn_policy,\n",
        "    num_episodes=5,  # <- resampling\n",
        "    max_time_steps=500,\n",
        ")"
      ]
    },
    {
      "cell_type": "code",
      "execution_count": null,
      "metadata": {
        "id": "eCSmpIbHBwso"
      },
      "outputs": [],
      "source": [
        "%%time\n",
        "\n",
        "hist_dict = {}\n",
        "\n",
        "num_params = len(nn_policy.get_params())\n",
        "\n",
        "initial_solution_array = np.random.random(num_params)\n",
        "initial_sigma_array = np.ones(num_params) * 1.0\n",
        "\n",
        "optimized_policy_params = saes_1_1(\n",
        "    objective_function=objective_function,\n",
        "    x_array=initial_solution_array,\n",
        "    sigma_array=initial_sigma_array,\n",
        "    max_iterations=1000,\n",
        "    print_every=10,\n",
        "    success_score=-200,\n",
        "    num_evals_for_stop=None,\n",
        "    hist_dict=hist_dict,\n",
        ")\n",
        "\n",
        "objective_function.env.close()"
      ]
    },
    {
      "cell_type": "code",
      "execution_count": null,
      "metadata": {
        "lines_to_next_cell": 0,
        "id": "6noUsPvtBwso"
      },
      "outputs": [],
      "source": [
        "df = pd.DataFrame.from_dict(hist_dict, orient=\"index\")\n",
        "ax = df.iloc[:, 0].plot(title=\"Average reward\", figsize=(20, 5))\n",
        "plt.xlabel(\"Training Steps\")\n",
        "plt.ylabel(\"Reward\")\n",
        "plt.savefig(PLOTS_DIR / \"lab7_ex4_saes_lunarlander_avg_reward_wrt_iterations.png\");"
      ]
    },
    {
      "cell_type": "code",
      "execution_count": null,
      "metadata": {
        "lines_to_next_cell": 0,
        "id": "NwBgz0nABwso"
      },
      "outputs": [],
      "source": [
        "ax = df.iloc[:, 1:66].plot(\n",
        "    title=\"Theta w.r.t training steps\", legend=None, figsize=(20, 10)\n",
        ")\n",
        "# ax.get_legend().remove()\n",
        "plt.xlabel(\"Training Steps\")\n",
        "plt.savefig(PLOTS_DIR / \"lab7_ex4_saes_lunarlander_params_wrt_iterations.png\");"
      ]
    },
    {
      "cell_type": "code",
      "execution_count": null,
      "metadata": {
        "lines_to_next_cell": 0,
        "id": "oygBwjnuBwso"
      },
      "outputs": [],
      "source": [
        "ax = df.iloc[:, 67:].plot(\n",
        "    logy=True, title=\"Variance w.r.t training steps\", legend=None, figsize=(20, 10)\n",
        ")\n",
        "# ax.get_legend().remove()\n",
        "plt.xlabel(\"Training Steps\")\n",
        "plt.savefig(PLOTS_DIR / \"lab7_ex4_saes_lunarlander_var_wrt_iterations.png\");"
      ]
    },
    {
      "cell_type": "code",
      "execution_count": null,
      "metadata": {
        "id": "JIfxo3VqBwso"
      },
      "outputs": [],
      "source": [
        "print(\"Optimized weights: \", optimized_policy_params)"
      ]
    },
    {
      "cell_type": "markdown",
      "metadata": {
        "id": "MNw3Q9uaBwso"
      },
      "source": [
        "### Test the trained agent"
      ]
    },
    {
      "cell_type": "markdown",
      "metadata": {
        "id": "ZtAX1EbTBwso"
      },
      "source": [
        "**Task 6:** check the optimized policy."
      ]
    },
    {
      "cell_type": "code",
      "execution_count": null,
      "metadata": {
        "lines_to_next_cell": 2,
        "id": "oy9c84RuBwso"
      },
      "outputs": [],
      "source": [
        "VIDEO_PREFIX_EX4_SAES_LUNARLANDER_TRAINED = \"lab7_ex4_saes_lunarlander_tained\"\n",
        "\n",
        "NUM_EPISODES = 3\n",
        "\n",
        "file_path_list = [\n",
        "    FIGS_DIR / f\"{VIDEO_PREFIX_EX4_SAES_LUNARLANDER_TRAINED}-episode-{episode_index}.mp4\"\n",
        "    for episode_index in range(NUM_EPISODES)\n",
        "]\n",
        "\n",
        "for file_path in file_path_list:\n",
        "    file_path.unlink(missing_ok=True)\n",
        "\n",
        "env = gym.make(\"LunarLander-v3\", continuous=True, render_mode=\"rgb_array\")\n",
        "env = gym.wrappers.RecordVideo(\n",
        "    env,\n",
        "    video_folder=str(FIGS_DIR),\n",
        "    name_prefix=VIDEO_PREFIX_EX4_SAES_LUNARLANDER_TRAINED,\n",
        "    episode_trigger=lambda x: True,\n",
        ")\n",
        "env = gym.wrappers.RecordEpisodeStatistics(env, buffer_length=NUM_EPISODES)\n",
        "\n",
        "objective_function = ObjectiveFunction(env=env, policy=nn_policy)\n",
        "\n",
        "objective_function.eval(optimized_policy_params, num_episodes=NUM_EPISODES, max_time_steps=500)\n",
        "\n",
        "# print(f'Episode time taken: {env.time_queue}')\n",
        "# print(f'Episode total rewards: {env.return_queue}')\n",
        "# print(f'Episode lengths: {env.length_queue}')\n",
        "\n",
        "env.close()\n",
        "\n",
        "print(\"\\nSelect the episode to play here 👇\\n\")\n",
        "\n",
        "interact(video_selector, file_path=file_path_list);"
      ]
    },
    {
      "cell_type": "markdown",
      "metadata": {
        "id": "bSiClZR7Bwsp"
      },
      "source": [
        "## Bonus exercise 1: implement CEM with an alternative *Proposal distribution*"
      ]
    },
    {
      "cell_type": "markdown",
      "metadata": {
        "lines_to_next_cell": 2,
        "id": "0qJfEqvwBwsp"
      },
      "source": [
        "Implement CEM with the following alternative *Proposal distribution*: a multivariate normal distribution parametrized by a mean vector and **a covariance matrix** (to use correlations in the search space dimensions).\n",
        "\n",
        "Test it on the CartPole and the LunarLander environments."
      ]
    },
    {
      "cell_type": "code",
      "execution_count": null,
      "metadata": {
        "id": "633LqrETBwsp"
      },
      "outputs": [],
      "source": [
        "def cem_correlated(\n",
        "    objective_function: Callable[[np.ndarray], float],\n",
        "    mean_array: np.ndarray,\n",
        "    var_array: np.ndarray,\n",
        "    max_iterations: int = 500,\n",
        "    sample_size: int = 50,\n",
        "    elite_frac: float = 0.2,\n",
        "    print_every: int = 10,\n",
        "    success_score: float = float(\"inf\"),\n",
        "    num_evals_for_stop: Optional[int] = None,\n",
        "    hist_dict: Optional[dict] = None,\n",
        ") -> np.ndarray:\n",
        "    \"\"\"Cross-entropy method.\n",
        "\n",
        "    Params\n",
        "    ======\n",
        "        objective_function (function): the function to maximize\n",
        "        mean_array (array of floats): the initial proposal distribution (mean vector)\n",
        "        var_array (array of floats): the initial proposal distribution (variance vector)\n",
        "        max_iterations (int): number of training iterations\n",
        "        sample_size (int): size of population at each iteration\n",
        "        elite_frac (float): rate of top performers to use in update with elite_frac ∈ ]0;1]\n",
        "        print_every (int): how often to print average score\n",
        "        hist_dict (dict): logs\n",
        "    \"\"\"\n",
        "    assert 0.0 < elite_frac <= 1.0\n",
        "\n",
        "    n_elite = math.ceil(sample_size * elite_frac)\n",
        "\n",
        "    cov_array = np.diag(var_array)\n",
        "\n",
        "    for iteration_index in range(0, max_iterations):\n",
        "        # SAMPLE A NEW POPULATION OF SOLUTIONS (X VECTORS) ####################\n",
        "\n",
        "        x_array = ... # TODO...\n",
        "\n",
        "        # EVALUATE SAMPLES AND EXTRACT THE BEST ONES (\"ELITE\") ################\n",
        "\n",
        "        score_array = ... # TODO...\n",
        "\n",
        "        sorted_indices_array = ... # TODO...             # Sort from the lower score to the higher one\n",
        "        elite_indices_array = ... # TODO...     # Recall: we *minimize* the objective function thus we take the samples that are at the begining of the sorted_indices\n",
        "\n",
        "        elite_x_array = ... # TODO...\n",
        "\n",
        "        # FIT THE NORMAL DISTRIBUTION ON THE ELITE POPULATION #################\n",
        "\n",
        "        mean_array = ... # TODO...\n",
        "        cov_array = ... # TODO...\n",
        "        score = ... # TODO...\n",
        "\n",
        "        # PRINT STATUS ########################################################\n",
        "\n",
        "        if iteration_index % print_every == 0:\n",
        "            print(\"Iteration {}\\tScore {}\".format(iteration_index, score))\n",
        "\n",
        "        if hist_dict is not None:\n",
        "            hist_dict[iteration_index] = [score] + mean_array.tolist() + cov_array.flatten().tolist()\n",
        "\n",
        "        # STOPING CRITERIA ####################################################\n",
        "\n",
        "        if num_evals_for_stop is not None:\n",
        "            score = ... # TODO...\n",
        "\n",
        "        # `num_evals_for_stop = None` may be used to fasten computations but it introduce bias...\n",
        "        if score <= success_score:\n",
        "            break\n",
        "\n",
        "    return mean_array"
      ]
    },
    {
      "cell_type": "markdown",
      "metadata": {
        "id": "eNe_eGhLBwsp"
      },
      "source": [
        "### Test on CartPole"
      ]
    },
    {
      "cell_type": "code",
      "execution_count": null,
      "metadata": {
        "id": "pPN7rDKqBwsp"
      },
      "outputs": [],
      "source": [
        "env = gym.make(\"CartPole-v1\")\n",
        "\n",
        "nn_policy = LogisticRegression(env.observation_space.shape[0])\n",
        "\n",
        "objective_function = ObjectiveFunction(\n",
        "    env=env, policy=nn_policy, num_episodes=10, max_time_steps=1000\n",
        ")"
      ]
    },
    {
      "cell_type": "code",
      "execution_count": null,
      "metadata": {
        "id": "5mS-9yYXBwsp"
      },
      "outputs": [],
      "source": [
        "%%time\n",
        "\n",
        "hist_dict = {}\n",
        "\n",
        "num_params = len(nn_policy.get_params())\n",
        "\n",
        "init_mean_array = np.random.random(num_params)\n",
        "init_var_array = np.ones(num_params) * 100.0\n",
        "\n",
        "optimized_policy_params = cem_correlated(\n",
        "    objective_function=objective_function,\n",
        "    mean_array=init_mean_array,\n",
        "    var_array=init_var_array,\n",
        "    max_iterations=30,\n",
        "    sample_size=50,\n",
        "    elite_frac=0.1,\n",
        "    print_every=1,\n",
        "    success_score=-500,\n",
        "    num_evals_for_stop=None,\n",
        "    hist_dict=hist_dict,\n",
        ")\n",
        "\n",
        "objective_function.env.close()"
      ]
    },
    {
      "cell_type": "code",
      "execution_count": null,
      "metadata": {
        "lines_to_next_cell": 0,
        "id": "2To1kUUXBwsp"
      },
      "outputs": [],
      "source": [
        "df = pd.DataFrame.from_dict(\n",
        "    hist_dict,\n",
        "    orient=\"index\",\n",
        "    columns=[\"score\"]\n",
        "    + [f\"mu{i}\" for i in range(1, 5)]\n",
        "    + [f\"cov{i}{j}\" for i in range(1, 5) for j in range(1, 5)],\n",
        ")\n",
        "ax = df.score.plot(title=\"Average reward\", figsize=(20, 5))\n",
        "plt.xlabel(\"Training Steps\")\n",
        "plt.ylabel(\"Reward\")\n",
        "plt.savefig(PLOTS_DIR / \"lab7_ex5_cem_cartpole_avg_reward_wrt_iterations.png\");"
      ]
    },
    {
      "cell_type": "code",
      "execution_count": null,
      "metadata": {
        "lines_to_next_cell": 0,
        "id": "aHH-KugxBwsp"
      },
      "outputs": [],
      "source": [
        "ax = df[[\"mu1\", \"mu2\", \"mu3\", \"mu4\"]].plot(\n",
        "    title=\"Theta w.r.t training steps\", figsize=(20, 5)\n",
        ")\n",
        "plt.xlabel(\"Training Steps\")\n",
        "plt.savefig(PLOTS_DIR / \"lab7_ex5_cem_cartpole_params_wrt_iterations.png\");"
      ]
    },
    {
      "cell_type": "code",
      "execution_count": null,
      "metadata": {
        "lines_to_next_cell": 0,
        "id": "qtFK2TtQBwsp"
      },
      "outputs": [],
      "source": [
        "ax = df[[f\"cov{i}{j}\" for i in range(1, 5) for j in range(1, 5)]].plot(\n",
        "    logy=True, title=\"Variance w.r.t training steps\", figsize=(20, 5)\n",
        ")\n",
        "plt.xlabel(\"Training Steps\")\n",
        "plt.savefig(PLOTS_DIR / \"lab7_ex5_cem_cartpole_var_wrt_iterations.png\");"
      ]
    },
    {
      "cell_type": "code",
      "execution_count": null,
      "metadata": {
        "id": "jMN_hLUcBwsq"
      },
      "outputs": [],
      "source": [
        "print(\"Optimized weights: \", optimized_policy_params)"
      ]
    },
    {
      "cell_type": "code",
      "execution_count": null,
      "metadata": {
        "id": "dh-965lkBwsq"
      },
      "outputs": [],
      "source": [
        "VIDEO_PREFIX_EX5_CEM_CARTPOLE_TRAINED = \"lab7_ex5_cem_cartpole_tained\"\n",
        "\n",
        "NUM_EPISODES = 3\n",
        "\n",
        "file_path_list = [\n",
        "    FIGS_DIR / f\"{VIDEO_PREFIX_EX5_CEM_CARTPOLE_TRAINED}-episode-{episode_index}.mp4\"\n",
        "    for episode_index in range(NUM_EPISODES)\n",
        "]\n",
        "\n",
        "for file_path in file_path_list:\n",
        "    file_path.unlink(missing_ok=True)\n",
        "\n",
        "env = gym.make(\"CartPole-v1\", render_mode=\"rgb_array\")\n",
        "env = gym.wrappers.RecordVideo(\n",
        "    env,\n",
        "    video_folder=str(FIGS_DIR),\n",
        "    name_prefix=VIDEO_PREFIX_EX5_CEM_CARTPOLE_TRAINED,\n",
        "    episode_trigger=lambda x: True,\n",
        ")\n",
        "env = gym.wrappers.RecordEpisodeStatistics(env, buffer_length=NUM_EPISODES)\n",
        "\n",
        "objective_function = ObjectiveFunction(env=env, policy=nn_policy)\n",
        "\n",
        "objective_function.eval(optimized_policy_params, num_episodes=NUM_EPISODES, max_time_steps=500)\n",
        "\n",
        "env.close()\n",
        "\n",
        "# print(f'Episode time taken: {env.time_queue}')\n",
        "# print(f'Episode total rewards: {env.return_queue}')\n",
        "# print(f'Episode lengths: {env.length_queue}')\n",
        "\n",
        "print(\"\\nSelect the episode to play here 👇\\n\")\n",
        "\n",
        "interact(video_selector, file_path=file_path_list);"
      ]
    },
    {
      "cell_type": "markdown",
      "metadata": {
        "id": "RUyroQJjBwsq"
      },
      "source": [
        "## Bonus exercise 2: test the CMAES algorithm"
      ]
    },
    {
      "cell_type": "markdown",
      "metadata": {
        "id": "i4hwNe2kBwsq"
      },
      "source": [
        "PyCMA: Python implementation of CMA-ES (from Nikolaus Hansen - CMAP).\n",
        "\n",
        "Source code:\n",
        "\n",
        "- http://cma.gforge.inria.fr/cmaes_sourcecode_page.html#python\n",
        "- https://github.com/CMA-ES/pycma\n",
        "- https://pypi.org/project/cma/\n",
        "\n",
        "Official documentation:\n",
        "\n",
        "- http://cma.gforge.inria.fr/apidocs-pycma/"
      ]
    },
    {
      "cell_type": "code",
      "execution_count": null,
      "metadata": {
        "id": "jds_1V80Bwsq"
      },
      "outputs": [],
      "source": [
        "import cma"
      ]
    },
    {
      "cell_type": "code",
      "execution_count": null,
      "metadata": {
        "id": "TR66m7q2Bwsq"
      },
      "outputs": [],
      "source": [
        "env = gym.make(\"LunarLander-v3\", continuous=True)\n",
        "\n",
        "nn_policy = NeuralNetworkPolicy(\n",
        "    observations_size=env.observation_space.shape[0],\n",
        "    actions_size=env.action_space.shape[0],\n",
        "    hidden_size=16,\n",
        ")\n",
        "\n",
        "objective_function = ObjectiveFunction(\n",
        "    env=env, policy=nn_policy, num_episodes=1, max_time_steps=500\n",
        ")"
      ]
    },
    {
      "cell_type": "code",
      "execution_count": null,
      "metadata": {
        "id": "0X8ILurtBwsq"
      },
      "outputs": [],
      "source": [
        "%%time\n",
        "\n",
        "num_params = len(nn_policy.get_params())\n",
        "\n",
        "x_optimal, es = cma.fmin2(\n",
        "    objective_function,\n",
        "    x0=np.random.random(num_params),\n",
        "    sigma0=10.0,\n",
        "    options={\"maxfevals\": 1500},\n",
        ")\n",
        "optimized_policy_params = x_optimal"
      ]
    },
    {
      "cell_type": "code",
      "execution_count": null,
      "metadata": {
        "id": "uYU2AEOuBwsq"
      },
      "outputs": [],
      "source": [
        "optimized_policy_params"
      ]
    },
    {
      "cell_type": "code",
      "execution_count": null,
      "metadata": {
        "id": "9_9zLDx3Bwsq"
      },
      "outputs": [],
      "source": [
        "sns.set_context(\"talk\")\n",
        "plt.rcParams[\"figure.figsize\"] = 20, 10\n",
        "\n",
        "cma.plot();  # shortcut for es.logger.plot()"
      ]
    },
    {
      "cell_type": "markdown",
      "metadata": {
        "id": "PaYUOfl4Bwsr"
      },
      "source": [
        "Test the final policy"
      ]
    },
    {
      "cell_type": "code",
      "execution_count": null,
      "metadata": {
        "id": "ue2GnkLFBwsr"
      },
      "outputs": [],
      "source": [
        "VIDEO_PREFIX_EX6_CMAES_LUNARLANDER_TRAINED = \"lab7_ex6_cmaes_lunarlander_tained\"\n",
        "\n",
        "NUM_EPISODES = 3\n",
        "\n",
        "file_path_list = [\n",
        "    FIGS_DIR / f\"{VIDEO_PREFIX_EX6_CMAES_LUNARLANDER_TRAINED}-episode-{episode_index}.mp4\"\n",
        "    for episode_index in range(NUM_EPISODES)\n",
        "]\n",
        "\n",
        "for file_path in file_path_list:\n",
        "    file_path.unlink(missing_ok=True)\n",
        "\n",
        "env = gym.make(\"LunarLander-v3\", continuous=True, render_mode=\"rgb_array\")\n",
        "env = gym.wrappers.RecordVideo(\n",
        "    env,\n",
        "    video_folder=str(FIGS_DIR),\n",
        "    name_prefix=VIDEO_PREFIX_EX6_CMAES_LUNARLANDER_TRAINED,\n",
        "    episode_trigger=lambda x: True,\n",
        ")\n",
        "env = gym.wrappers.RecordEpisodeStatistics(env, buffer_length=NUM_EPISODES)\n",
        "\n",
        "objective_function = ObjectiveFunction(env=env, policy=nn_policy)\n",
        "\n",
        "objective_function.eval(optimized_policy_params, num_episodes=NUM_EPISODES, max_time_steps=500)\n",
        "\n",
        "env.close()\n",
        "\n",
        "# print(f'Episode time taken: {env.time_queue}')\n",
        "# print(f'Episode total rewards: {env.return_queue}')\n",
        "# print(f'Episode lengths: {env.length_queue}')\n",
        "\n",
        "print(\"\\nSelect the episode to play here 👇\\n\")\n",
        "\n",
        "interact(video_selector, file_path=file_path_list);"
      ]
    }
  ],
  "metadata": {
    "kernelspec": {
      "display_name": "Python 3 (ipykernel)",
      "language": "python",
      "name": "python3"
    },
    "language_info": {
      "codemirror_mode": {
        "name": "ipython",
        "version": 3
      },
      "file_extension": ".py",
      "mimetype": "text/x-python",
      "name": "python",
      "nbconvert_exporter": "python",
      "pygments_lexer": "ipython3",
      "version": "3.11.2"
    },
    "colab": {
      "provenance": [],
      "include_colab_link": true
    },
    "widgets": {
      "application/vnd.jupyter.widget-state+json": {
        "317e86cc2e07454296996bf0eb2eaf38": {
          "model_module": "@jupyter-widgets/controls",
          "model_name": "VBoxModel",
          "model_module_version": "1.5.0",
          "state": {
            "_dom_classes": [
              "widget-interact"
            ],
            "_model_module": "@jupyter-widgets/controls",
            "_model_module_version": "1.5.0",
            "_model_name": "VBoxModel",
            "_view_count": null,
            "_view_module": "@jupyter-widgets/controls",
            "_view_module_version": "1.5.0",
            "_view_name": "VBoxView",
            "box_style": "",
            "children": [
              "IPY_MODEL_4956d078ee6b4cf89cf55166648dd2ff",
              "IPY_MODEL_cf7d8d2685c94344b04121233aebda6c"
            ],
            "layout": "IPY_MODEL_c2925e3896614f678ed13725f9a4a954"
          }
        },
        "4956d078ee6b4cf89cf55166648dd2ff": {
          "model_module": "@jupyter-widgets/controls",
          "model_name": "DropdownModel",
          "model_module_version": "1.5.0",
          "state": {
            "_dom_classes": [],
            "_model_module": "@jupyter-widgets/controls",
            "_model_module_version": "1.5.0",
            "_model_name": "DropdownModel",
            "_options_labels": [
              "figs/lab7/lab7_ex1_untained-episode-0.mp4",
              "figs/lab7/lab7_ex1_untained-episode-1.mp4",
              "figs/lab7/lab7_ex1_untained-episode-2.mp4"
            ],
            "_view_count": null,
            "_view_module": "@jupyter-widgets/controls",
            "_view_module_version": "1.5.0",
            "_view_name": "DropdownView",
            "description": "file_path",
            "description_tooltip": null,
            "disabled": false,
            "index": 0,
            "layout": "IPY_MODEL_14450b8103d5429eba8cf52d618213ab",
            "style": "IPY_MODEL_ab97ca0b27984f4d9d98854006ee3891"
          }
        },
        "cf7d8d2685c94344b04121233aebda6c": {
          "model_module": "@jupyter-widgets/output",
          "model_name": "OutputModel",
          "model_module_version": "1.0.0",
          "state": {
            "_dom_classes": [],
            "_model_module": "@jupyter-widgets/output",
            "_model_module_version": "1.0.0",
            "_model_name": "OutputModel",
            "_view_count": null,
            "_view_module": "@jupyter-widgets/output",
            "_view_module_version": "1.0.0",
            "_view_name": "OutputView",
            "layout": "IPY_MODEL_087a5800b91e4d048bce5123a1b975c8",
            "msg_id": "",
            "outputs": [
              {
                "output_type": "display_data",
                "data": {
                  "text/plain": "<IPython.core.display.Video object>",
                  "text/html": "<video controls autoplay loop  >\n <source src=\"data:video/mp4;base64,AAAAIGZ0eXBpc29tAAACAGlzb21pc28yYXZjMW1wNDEAAAAIZnJlZQAACEVtZGF0AAACrgYF//+q3EXpvebZSLeWLNgg2SPu73gyNjQgLSBjb3JlIDE2NCByMzE5MSA0NjEzYWMzIC0gSC4yNjQvTVBFRy00IEFWQyBjb2RlYyAtIENvcHlsZWZ0IDIwMDMtMjAyNCAtIGh0dHA6Ly93d3cudmlkZW9sYW4ub3JnL3gyNjQuaHRtbCAtIG9wdGlvbnM6IGNhYmFjPTEgcmVmPTMgZGVibG9jaz0xOjA6MCBhbmFseXNlPTB4MzoweDExMyBtZT1oZXggc3VibWU9NyBwc3k9MSBwc3lfcmQ9MS4wMDowLjAwIG1peGVkX3JlZj0xIG1lX3JhbmdlPTE2IGNocm9tYV9tZT0xIHRyZWxsaXM9MSA4eDhkY3Q9MSBjcW09MCBkZWFkem9uZT0yMSwxMSBmYXN0X3Bza2lwPTEgY2hyb21hX3FwX29mZnNldD0tMiB0aHJlYWRzPTMgbG9va2FoZWFkX3RocmVhZHM9MSBzbGljZWRfdGhyZWFkcz0wIG5yPTAgZGVjaW1hdGU9MSBpbnRlcmxhY2VkPTAgYmx1cmF5X2NvbXBhdD0wIGNvbnN0cmFpbmVkX2ludHJhPTAgYmZyYW1lcz0zIGJfcHlyYW1pZD0yIGJfYWRhcHQ9MSBiX2JpYXM9MCBkaXJlY3Q9MSB3ZWlnaHRiPTEgb3Blbl9nb3A9MCB3ZWlnaHRwPTIga2V5aW50PTI1MCBrZXlpbnRfbWluPTI1IHNjZW5lY3V0PTQwIGludHJhX3JlZnJlc2g9MCByY19sb29rYWhlYWQ9NDAgcmM9Y3JmIG1idHJlZT0xIGNyZj0yMy4wIHFjb21wPTAuNjAgcXBtaW49MCBxcG1heD02OSBxcHN0ZXA9NCBpcF9yYXRpbz0xLjQwIGFxPTE6MS4wMACAAAAB0WWIhAAv//72rvzLK0cLlS4dWXuzUfLoSXL9iDB9aAAAAwAAAwAAJuKiZ0WFMeJsgAAALmAIWElDyDzETFWKgSxIZq+CcRoAy4Li4A6q4jMXPFugcmIpXIz6TEPzL8Oh61cedalyV/DEjQPGDBXugqnIr21f/tZaAV+/YhUEI/h96MGhjnSD+2sNkF6nnaPJXt2tqA17/p84lmepm6ZIfRicW30ILdGYxIdM2GZxq46BeDey6OWMT4Hj5kkG5gzOcgV34IP+Z7J11sJ1Ir8P5dGSbMRRUMwt+Xp/62WIcGBT9VKSHZr1B9RYaJWFzfyFkGSgJj3hKmCgEkPnH8qKIkWQaBb1exsJb9qw5Dx4gGIeZo0oCvcGtOQmYIsrqQOTxgQ9rpGSbT/FWJAAPPnH1wU0GzfcL+Xl0Q6gVq+9vGLlPrw9uladLMWE7MSU+j+1FH+NJwOL6O3ROJbMSeHNW7+SV5XGeb2V7aBuPNJaONxzIttVPjx5TA1KeEH2WYLRslTtjcOfmHqyeibolyFHRQANfaWFajDUq25xyYfGI33vPboJkKD1ktbapHodwWVKoUtplPLoli55PjuyjXypkWmwgnHkKMg86AACaAAAAwAfUQAAAK9BmiRsQr/+OEAAAQ0bjnwQgXJACvT0PA/AuyqHQRYJ2aLWZagurpwpgJp2jDEgHB9o8m1mfvLQi6WGGyckArEUm30Ofo/3O8YwRHZ88rNklAeyrGdY0Na1Uf7MZavXiRPnS54dJvU2cSBU4BngHDdBFZ01CKXCTlTq0+lBhYVuy3XUUryCBtlg42gJgXhRcNRuDkGXuwuGjJKjC23qEFTsueyS5dcNFRdofy2Q9qGwAAAAPUGeQniEfwAAFr5LsJewjn2SWZ3Y0yXsv24FL4Rl8HBeDPSaMdM7MGQ+rbFR2tSABpnv0AVYLyfdu/xVSbMAAAAjAZ5hdEf/AAAFH8vu4q8rpBv8mqmpUAeamDdchaPqDP5BT4AAAAA5AZ5jakf/AAAjscv/Rl0lLFGb7Kn0a+JylUgr//empX+zxyr0wkW+Z2bJnxRiAr81BqjYI7UYcfbBAAAAvkGaZkmoQWiZTBTwr/44QAABDTcz3w24gIAI6d8sjhKqgZZboALVEJpnushOJ+4ltCCpUm0bvROa/Wpb+cYao1ccNOn/0pg4zc72LyjBkGiYO2oZoGJgPO5WpSrT1V3u/2OVqLNEQNL5OTvctUjKZj+gDnwu4Ewa7WO0F9vOHMigAPOft3Wm/nC/wNXHRKjW0oucya0+sel1MEYnTEoxYoveSbbDxjm/DzIV4FEB2CAHWaF/qllcQZMBus7O3UEAAABLAZ6Fakf/AAAjvc3LEEtRvg+Bq19wuyQNiLz7I1a97REewOOFmv5qFKnAjmmFTIdgPfL/Ojwubowsx9AAJ1hZN0O22OiueraEimQdAAAAjkGaiUnhClJlMCP//IQAAA/vomLiRtYArHdbMNhUDvHMFCUl4KCVgB5SHb1JYGdZ7jp9QjQrFWp6+OU7vxuJrTKpNEle4Gqka57FhR01KQ/upMCJU3kIiBoFovT+VaDoBemMe8rmqtfCnqYaAUZg//aZBXvw+1MtGWQNI08RCOWaoY6IMQBawHMEXaXZqPEAAABhQZ6nRTRMI/8AABa7lDPjLUnQZAI8+aLhB4otMcDR5ApWBA3Ibif7Ng7AMHVhnVAv9QCIBnr0B/cJO/t0NuKkIp3D3jUgeyEpj4QXKJ7GN7x+DWe1jO6k6pBLs6HtDOywkwAAAFIBnshqR/8AACPCAIHeWZDXlebKABwM9b8v0GU1Db+LZnivKcXJWTjQ+mfwVFYW6/c1U3v79tHkJnij2qYNT/aAAIjXI38dSwEDRrIpIj8xpWvAAAADmm1vb3YAAABsbXZoZAAAAAAAAAAAAAAAAAAAA+gAAADIAAEAAAEAAAAAAAAAAAAAAAABAAAAAAAAAAAAAAAAAAAAAQAAAAAAAAAAAAAAAAAAQAAAAAAAAAAAAAAAAAAAAAAAAAAAAAAAAAAAAAAAAAIAAALFdHJhawAAAFx0a2hkAAAAAwAAAAAAAAAAAAAAAQAAAAAAAADIAAAAAAAAAAAAAAAAAAAAAAABAAAAAAAAAAAAAAAAAAAAAQAAAAAAAAAAAAAAAAAAQAAAAAJYAAABkAAAAAAAJGVkdHMAAAAcZWxzdAAAAAAAAAABAAAAyAAAAgAAAQAAAAACPW1kaWEAAAAgbWRoZAAAAAAAAAAAAAAAAAAAMgAAAAoAVcQAAAAAAC1oZGxyAAAAAAAAAAB2aWRlAAAAAAAAAAAAAAAAVmlkZW9IYW5kbGVyAAAAAehtaW5mAAAAFHZtaGQAAAABAAAAAAAAAAAAAAAkZGluZgAAABxkcmVmAAAAAAAAAAEAAAAMdXJsIAAAAAEAAAGoc3RibAAAALBzdHNkAAAAAAAAAAEAAACgYXZjMQAAAAAAAAABAAAAAAAAAAAAAAAAAAAAAAJYAZAASAAAAEgAAAAAAAAAARRMYXZjNjEuMy4xMDAgbGlieDI2NAAAAAAAAAAAAAAAABj//wAAADZhdmNDAWQAH//hABlnZAAfrNlAmDPl4QAAAwABAAADAGQPGDGWAQAGaOvjyyLA/fj4AAAAABRidHJ0AAAAAAABSYgAAUmIAAAAGHN0dHMAAAAAAAAAAQAAAAoAAAEAAAAAFHN0c3MAAAAAAAAAAQAAAAEAAABYY3R0cwAAAAAAAAAJAAAAAQAAAgAAAAABAAAFAAAAAAEAAAIAAAAAAQAAAAAAAAABAAABAAAAAAEAAAMAAAAAAQAAAQAAAAABAAAEAAAAAAIAAAEAAAAAHHN0c2MAAAAAAAAAAQAAAAEAAAAKAAAAAQAAADxzdHN6AAAAAAAAAAAAAAAKAAAEhwAAALMAAABBAAAAJwAAAD0AAADCAAAATwAAAJIAAABlAAAAVgAAABRzdGNvAAAAAAAAAAEAAAAwAAAAYXVkdGEAAABZbWV0YQAAAAAAAAAhaGRscgAAAAAAAAAAbWRpcmFwcGwAAAAAAAAAAAAAAAAsaWxzdAAAACSpdG9vAAAAHGRhdGEAAAABAAAAAExhdmY2MS4xLjEwMA==\" type=\"video/mp4\">\n Your browser does not support the video tag.\n </video>"
                },
                "metadata": {}
              }
            ]
          }
        },
        "c2925e3896614f678ed13725f9a4a954": {
          "model_module": "@jupyter-widgets/base",
          "model_name": "LayoutModel",
          "model_module_version": "1.2.0",
          "state": {
            "_model_module": "@jupyter-widgets/base",
            "_model_module_version": "1.2.0",
            "_model_name": "LayoutModel",
            "_view_count": null,
            "_view_module": "@jupyter-widgets/base",
            "_view_module_version": "1.2.0",
            "_view_name": "LayoutView",
            "align_content": null,
            "align_items": null,
            "align_self": null,
            "border": null,
            "bottom": null,
            "display": null,
            "flex": null,
            "flex_flow": null,
            "grid_area": null,
            "grid_auto_columns": null,
            "grid_auto_flow": null,
            "grid_auto_rows": null,
            "grid_column": null,
            "grid_gap": null,
            "grid_row": null,
            "grid_template_areas": null,
            "grid_template_columns": null,
            "grid_template_rows": null,
            "height": null,
            "justify_content": null,
            "justify_items": null,
            "left": null,
            "margin": null,
            "max_height": null,
            "max_width": null,
            "min_height": null,
            "min_width": null,
            "object_fit": null,
            "object_position": null,
            "order": null,
            "overflow": null,
            "overflow_x": null,
            "overflow_y": null,
            "padding": null,
            "right": null,
            "top": null,
            "visibility": null,
            "width": null
          }
        },
        "14450b8103d5429eba8cf52d618213ab": {
          "model_module": "@jupyter-widgets/base",
          "model_name": "LayoutModel",
          "model_module_version": "1.2.0",
          "state": {
            "_model_module": "@jupyter-widgets/base",
            "_model_module_version": "1.2.0",
            "_model_name": "LayoutModel",
            "_view_count": null,
            "_view_module": "@jupyter-widgets/base",
            "_view_module_version": "1.2.0",
            "_view_name": "LayoutView",
            "align_content": null,
            "align_items": null,
            "align_self": null,
            "border": null,
            "bottom": null,
            "display": null,
            "flex": null,
            "flex_flow": null,
            "grid_area": null,
            "grid_auto_columns": null,
            "grid_auto_flow": null,
            "grid_auto_rows": null,
            "grid_column": null,
            "grid_gap": null,
            "grid_row": null,
            "grid_template_areas": null,
            "grid_template_columns": null,
            "grid_template_rows": null,
            "height": null,
            "justify_content": null,
            "justify_items": null,
            "left": null,
            "margin": null,
            "max_height": null,
            "max_width": null,
            "min_height": null,
            "min_width": null,
            "object_fit": null,
            "object_position": null,
            "order": null,
            "overflow": null,
            "overflow_x": null,
            "overflow_y": null,
            "padding": null,
            "right": null,
            "top": null,
            "visibility": null,
            "width": null
          }
        },
        "ab97ca0b27984f4d9d98854006ee3891": {
          "model_module": "@jupyter-widgets/controls",
          "model_name": "DescriptionStyleModel",
          "model_module_version": "1.5.0",
          "state": {
            "_model_module": "@jupyter-widgets/controls",
            "_model_module_version": "1.5.0",
            "_model_name": "DescriptionStyleModel",
            "_view_count": null,
            "_view_module": "@jupyter-widgets/base",
            "_view_module_version": "1.2.0",
            "_view_name": "StyleView",
            "description_width": ""
          }
        },
        "087a5800b91e4d048bce5123a1b975c8": {
          "model_module": "@jupyter-widgets/base",
          "model_name": "LayoutModel",
          "model_module_version": "1.2.0",
          "state": {
            "_model_module": "@jupyter-widgets/base",
            "_model_module_version": "1.2.0",
            "_model_name": "LayoutModel",
            "_view_count": null,
            "_view_module": "@jupyter-widgets/base",
            "_view_module_version": "1.2.0",
            "_view_name": "LayoutView",
            "align_content": null,
            "align_items": null,
            "align_self": null,
            "border": null,
            "bottom": null,
            "display": null,
            "flex": null,
            "flex_flow": null,
            "grid_area": null,
            "grid_auto_columns": null,
            "grid_auto_flow": null,
            "grid_auto_rows": null,
            "grid_column": null,
            "grid_gap": null,
            "grid_row": null,
            "grid_template_areas": null,
            "grid_template_columns": null,
            "grid_template_rows": null,
            "height": null,
            "justify_content": null,
            "justify_items": null,
            "left": null,
            "margin": null,
            "max_height": null,
            "max_width": null,
            "min_height": null,
            "min_width": null,
            "object_fit": null,
            "object_position": null,
            "order": null,
            "overflow": null,
            "overflow_x": null,
            "overflow_y": null,
            "padding": null,
            "right": null,
            "top": null,
            "visibility": null,
            "width": null
          }
        }
      }
    }
  },
  "nbformat": 4,
  "nbformat_minor": 0
}